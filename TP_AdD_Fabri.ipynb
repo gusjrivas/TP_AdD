{
 "cells": [
  {
   "cell_type": "markdown",
   "metadata": {},
   "source": [
    "### **TP Final Análisis de Datos:**\n",
    "Evaluación de la performance de modelos de clasificación con datos tumores de cáncer de mama en *malignos* o *benignos*.\n",
    "\n",
    "Estudiantes:\n",
    "\n",
    "\n",
    "*   Gustavo Julián Rivas\n",
    "*   Myrna Lorena Degano\n",
    "*   Santiago José Olaciregui\n",
    "*   Fabricio Lopretto"
   ]
  },
  {
   "cell_type": "markdown",
   "metadata": {},
   "source": [
    "## 1 - Introducción:\n",
    "Este trabajo evaluó y comparó la performance (en un set de datos determinado) de la clasificación de diferentes modelos, como por ejemplo *k-vecinos cercanos*, *árboles de decisón*, etc.\n",
    "\n",
    "Para ello se usó una base de datos con diferentes atributos asociados a tumores mamarios. A partir de técnicas de procesamiento imagenes utilizando un clasificador inductivo basado en programación lineal, se creó un sistema de alta precisión para el diagnóstico de tumores de mama (Wolberg y otros, 1992).\n",
    "\n",
    "A partir de muestras tomadas mediante jeringa y con una interfaz interactiva, se inicializaron modelos de contorno activos, conocidos como *snakes*, cerca de los límites de un conjunto de núcleos celulares.\n",
    "\n",
    "Las *snakes* personalizadas se deforman con la forma exacta de los núcleos. Esto permite un análisis preciso y automatizado del tamaño, la forma y la textura del núcleo. Se calculan diez características para cada núcleo, definiendo su el valor medio, el valor más grande (o peor) y la desviación estándar de cada característica para cada tumor en particular. Por ejemplo, el radio medio se calcula como la media de la distancia del centro de la célula hasta cada punto del perímetro."
   ]
  },
  {
   "cell_type": "markdown",
   "metadata": {},
   "source": [
    "El set de Datos utilizado lleva el nombre de *Conjunto de datos Breast Cancer Wisconsin (Diagnostic)* (Wolberg y otros, 1995).\n",
    "\n",
    "Contiene características/atributos obtenidas a partir de imágenes digitales de células mamarias, como el radio, la textura, perímetro, y otras características. Se lo puede encontrar en el siguiente link:\n",
    "\n",
    "https://archive.ics.uci.edu/dataset/17/breast+cancer+wisconsin+diagnostic"
   ]
  },
  {
   "cell_type": "code",
   "execution_count": 1,
   "metadata": {},
   "outputs": [
    {
     "name": "stdout",
     "output_type": "stream",
     "text": [
      "Requirement already satisfied: seaborn in c:\\users\\fabri\\appdata\\local\\programs\\python\\python311\\lib\\site-packages (0.12.2)\n",
      "Requirement already satisfied: numpy!=1.24.0,>=1.17 in c:\\users\\fabri\\appdata\\local\\programs\\python\\python311\\lib\\site-packages (from seaborn) (1.26.2)\n",
      "Requirement already satisfied: pandas>=0.25 in c:\\users\\fabri\\appdata\\local\\programs\\python\\python311\\lib\\site-packages (from seaborn) (2.2.1)\n",
      "Requirement already satisfied: matplotlib!=3.6.1,>=3.1 in c:\\users\\fabri\\appdata\\local\\programs\\python\\python311\\lib\\site-packages (from seaborn) (3.8.2)\n",
      "Requirement already satisfied: contourpy>=1.0.1 in c:\\users\\fabri\\appdata\\local\\programs\\python\\python311\\lib\\site-packages (from matplotlib!=3.6.1,>=3.1->seaborn) (1.2.0)\n",
      "Requirement already satisfied: cycler>=0.10 in c:\\users\\fabri\\appdata\\local\\programs\\python\\python311\\lib\\site-packages (from matplotlib!=3.6.1,>=3.1->seaborn) (0.12.1)\n",
      "Requirement already satisfied: fonttools>=4.22.0 in c:\\users\\fabri\\appdata\\local\\programs\\python\\python311\\lib\\site-packages (from matplotlib!=3.6.1,>=3.1->seaborn) (4.46.0)\n",
      "Requirement already satisfied: kiwisolver>=1.3.1 in c:\\users\\fabri\\appdata\\local\\programs\\python\\python311\\lib\\site-packages (from matplotlib!=3.6.1,>=3.1->seaborn) (1.4.5)\n",
      "Requirement already satisfied: packaging>=20.0 in c:\\users\\fabri\\appdata\\local\\programs\\python\\python311\\lib\\site-packages (from matplotlib!=3.6.1,>=3.1->seaborn) (23.2)\n",
      "Requirement already satisfied: pillow>=8 in c:\\users\\fabri\\appdata\\local\\programs\\python\\python311\\lib\\site-packages (from matplotlib!=3.6.1,>=3.1->seaborn) (10.1.0)\n",
      "Requirement already satisfied: pyparsing>=2.3.1 in c:\\users\\fabri\\appdata\\local\\programs\\python\\python311\\lib\\site-packages (from matplotlib!=3.6.1,>=3.1->seaborn) (3.1.1)\n",
      "Requirement already satisfied: python-dateutil>=2.7 in c:\\users\\fabri\\appdata\\local\\programs\\python\\python311\\lib\\site-packages (from matplotlib!=3.6.1,>=3.1->seaborn) (2.8.2)\n",
      "Requirement already satisfied: pytz>=2020.1 in c:\\users\\fabri\\appdata\\local\\programs\\python\\python311\\lib\\site-packages (from pandas>=0.25->seaborn) (2024.1)\n",
      "Requirement already satisfied: tzdata>=2022.7 in c:\\users\\fabri\\appdata\\local\\programs\\python\\python311\\lib\\site-packages (from pandas>=0.25->seaborn) (2024.1)\n",
      "Requirement already satisfied: six>=1.5 in c:\\users\\fabri\\appdata\\local\\programs\\python\\python311\\lib\\site-packages (from python-dateutil>=2.7->matplotlib!=3.6.1,>=3.1->seaborn) (1.16.0)\n"
     ]
    },
    {
     "name": "stderr",
     "output_type": "stream",
     "text": [
      "\n",
      "[notice] A new release of pip is available: 24.1 -> 24.2\n",
      "[notice] To update, run: python.exe -m pip install --upgrade pip\n"
     ]
    }
   ],
   "source": [
    "!pip install seaborn"
   ]
  },
  {
   "cell_type": "code",
   "execution_count": 2,
   "metadata": {},
   "outputs": [],
   "source": [
    "# Importa las librerias nencesarias\n",
    "import pandas as pd\n",
    "import numpy as np\n",
    "import matplotlib.pyplot as plt\n",
    "import seaborn as sns\n",
    "import os"
   ]
  },
  {
   "cell_type": "code",
   "execution_count": 5,
   "metadata": {},
   "outputs": [],
   "source": [
    "# Define la ruta al archivo de datos\n",
    "directorio_actual = os.getcwd()\n",
    "directorio_datos = directorio_actual + '/Data/data_sin_procesar.xlsx'"
   ]
  },
  {
   "cell_type": "code",
   "execution_count": 6,
   "metadata": {},
   "outputs": [],
   "source": [
    "# Carga el DataFrame con los registros que tienen los atributos y target.\n",
    "df = pd.read_excel(directorio_datos, sheet_name='data')"
   ]
  },
  {
   "cell_type": "markdown",
   "metadata": {},
   "source": [
    "## Análisis de Datos"
   ]
  },
  {
   "cell_type": "code",
   "execution_count": 7,
   "metadata": {},
   "outputs": [
    {
     "data": {
      "text/html": [
       "<div>\n",
       "<style scoped>\n",
       "    .dataframe tbody tr th:only-of-type {\n",
       "        vertical-align: middle;\n",
       "    }\n",
       "\n",
       "    .dataframe tbody tr th {\n",
       "        vertical-align: top;\n",
       "    }\n",
       "\n",
       "    .dataframe thead th {\n",
       "        text-align: right;\n",
       "    }\n",
       "</style>\n",
       "<table border=\"1\" class=\"dataframe\">\n",
       "  <thead>\n",
       "    <tr style=\"text-align: right;\">\n",
       "      <th></th>\n",
       "      <th>ID</th>\n",
       "      <th>diagnosis</th>\n",
       "      <th>radio_mean</th>\n",
       "      <th>texture_mean</th>\n",
       "      <th>perimeter_mean</th>\n",
       "      <th>area_mean</th>\n",
       "      <th>smoothness_mean</th>\n",
       "      <th>compactness_mean</th>\n",
       "      <th>concavity_mean</th>\n",
       "      <th>concave_points_mean</th>\n",
       "      <th>...</th>\n",
       "      <th>radio_worst</th>\n",
       "      <th>texture_worst</th>\n",
       "      <th>perimeter_worst</th>\n",
       "      <th>area_worst</th>\n",
       "      <th>smoothness_worst</th>\n",
       "      <th>compactness_worst</th>\n",
       "      <th>concavity_worst</th>\n",
       "      <th>concave_points_worst</th>\n",
       "      <th>symmetry_worst</th>\n",
       "      <th>fractal_dimension_worst</th>\n",
       "    </tr>\n",
       "  </thead>\n",
       "  <tbody>\n",
       "    <tr>\n",
       "      <th>0</th>\n",
       "      <td>842302</td>\n",
       "      <td>M</td>\n",
       "      <td>17.99</td>\n",
       "      <td>10.38</td>\n",
       "      <td>122.80</td>\n",
       "      <td>1001.0</td>\n",
       "      <td>0.11840</td>\n",
       "      <td>0.27760</td>\n",
       "      <td>0.3001</td>\n",
       "      <td>0.14710</td>\n",
       "      <td>...</td>\n",
       "      <td>25.38</td>\n",
       "      <td>17.33</td>\n",
       "      <td>184.60</td>\n",
       "      <td>2019.0</td>\n",
       "      <td>0.1622</td>\n",
       "      <td>0.6656</td>\n",
       "      <td>0.7119</td>\n",
       "      <td>0.2654</td>\n",
       "      <td>0.4601</td>\n",
       "      <td>0.11890</td>\n",
       "    </tr>\n",
       "    <tr>\n",
       "      <th>1</th>\n",
       "      <td>842517</td>\n",
       "      <td>M</td>\n",
       "      <td>20.57</td>\n",
       "      <td>17.77</td>\n",
       "      <td>132.90</td>\n",
       "      <td>1326.0</td>\n",
       "      <td>0.08474</td>\n",
       "      <td>0.07864</td>\n",
       "      <td>0.0869</td>\n",
       "      <td>0.07017</td>\n",
       "      <td>...</td>\n",
       "      <td>24.99</td>\n",
       "      <td>23.41</td>\n",
       "      <td>158.80</td>\n",
       "      <td>1956.0</td>\n",
       "      <td>0.1238</td>\n",
       "      <td>0.1866</td>\n",
       "      <td>0.2416</td>\n",
       "      <td>0.1860</td>\n",
       "      <td>0.2750</td>\n",
       "      <td>0.08902</td>\n",
       "    </tr>\n",
       "    <tr>\n",
       "      <th>2</th>\n",
       "      <td>84300903</td>\n",
       "      <td>M</td>\n",
       "      <td>19.69</td>\n",
       "      <td>21.25</td>\n",
       "      <td>130.00</td>\n",
       "      <td>1203.0</td>\n",
       "      <td>0.10960</td>\n",
       "      <td>0.15990</td>\n",
       "      <td>0.1974</td>\n",
       "      <td>0.12790</td>\n",
       "      <td>...</td>\n",
       "      <td>23.57</td>\n",
       "      <td>25.53</td>\n",
       "      <td>152.50</td>\n",
       "      <td>1709.0</td>\n",
       "      <td>0.1444</td>\n",
       "      <td>0.4245</td>\n",
       "      <td>0.4504</td>\n",
       "      <td>0.2430</td>\n",
       "      <td>0.3613</td>\n",
       "      <td>0.08758</td>\n",
       "    </tr>\n",
       "    <tr>\n",
       "      <th>3</th>\n",
       "      <td>84348301</td>\n",
       "      <td>M</td>\n",
       "      <td>11.42</td>\n",
       "      <td>20.38</td>\n",
       "      <td>77.58</td>\n",
       "      <td>386.1</td>\n",
       "      <td>0.14250</td>\n",
       "      <td>0.28390</td>\n",
       "      <td>0.2414</td>\n",
       "      <td>0.10520</td>\n",
       "      <td>...</td>\n",
       "      <td>14.91</td>\n",
       "      <td>26.50</td>\n",
       "      <td>98.87</td>\n",
       "      <td>567.7</td>\n",
       "      <td>0.2098</td>\n",
       "      <td>0.8663</td>\n",
       "      <td>0.6869</td>\n",
       "      <td>0.2575</td>\n",
       "      <td>0.6638</td>\n",
       "      <td>0.17300</td>\n",
       "    </tr>\n",
       "    <tr>\n",
       "      <th>4</th>\n",
       "      <td>84358402</td>\n",
       "      <td>M</td>\n",
       "      <td>20.29</td>\n",
       "      <td>14.34</td>\n",
       "      <td>135.10</td>\n",
       "      <td>1297.0</td>\n",
       "      <td>0.10030</td>\n",
       "      <td>0.13280</td>\n",
       "      <td>0.1980</td>\n",
       "      <td>0.10430</td>\n",
       "      <td>...</td>\n",
       "      <td>22.54</td>\n",
       "      <td>16.67</td>\n",
       "      <td>152.20</td>\n",
       "      <td>1575.0</td>\n",
       "      <td>0.1374</td>\n",
       "      <td>0.2050</td>\n",
       "      <td>0.4000</td>\n",
       "      <td>0.1625</td>\n",
       "      <td>0.2364</td>\n",
       "      <td>0.07678</td>\n",
       "    </tr>\n",
       "  </tbody>\n",
       "</table>\n",
       "<p>5 rows × 32 columns</p>\n",
       "</div>"
      ],
      "text/plain": [
       "         ID diagnosis  radio_mean  texture_mean  perimeter_mean  area_mean  \\\n",
       "0    842302         M       17.99         10.38          122.80     1001.0   \n",
       "1    842517         M       20.57         17.77          132.90     1326.0   \n",
       "2  84300903         M       19.69         21.25          130.00     1203.0   \n",
       "3  84348301         M       11.42         20.38           77.58      386.1   \n",
       "4  84358402         M       20.29         14.34          135.10     1297.0   \n",
       "\n",
       "   smoothness_mean  compactness_mean  concavity_mean  concave_points_mean  \\\n",
       "0          0.11840           0.27760          0.3001              0.14710   \n",
       "1          0.08474           0.07864          0.0869              0.07017   \n",
       "2          0.10960           0.15990          0.1974              0.12790   \n",
       "3          0.14250           0.28390          0.2414              0.10520   \n",
       "4          0.10030           0.13280          0.1980              0.10430   \n",
       "\n",
       "   ...  radio_worst  texture_worst  perimeter_worst  area_worst  \\\n",
       "0  ...        25.38          17.33           184.60      2019.0   \n",
       "1  ...        24.99          23.41           158.80      1956.0   \n",
       "2  ...        23.57          25.53           152.50      1709.0   \n",
       "3  ...        14.91          26.50            98.87       567.7   \n",
       "4  ...        22.54          16.67           152.20      1575.0   \n",
       "\n",
       "   smoothness_worst  compactness_worst  concavity_worst  concave_points_worst  \\\n",
       "0            0.1622             0.6656           0.7119                0.2654   \n",
       "1            0.1238             0.1866           0.2416                0.1860   \n",
       "2            0.1444             0.4245           0.4504                0.2430   \n",
       "3            0.2098             0.8663           0.6869                0.2575   \n",
       "4            0.1374             0.2050           0.4000                0.1625   \n",
       "\n",
       "   symmetry_worst  fractal_dimension_worst  \n",
       "0          0.4601                  0.11890  \n",
       "1          0.2750                  0.08902  \n",
       "2          0.3613                  0.08758  \n",
       "3          0.6638                  0.17300  \n",
       "4          0.2364                  0.07678  \n",
       "\n",
       "[5 rows x 32 columns]"
      ]
     },
     "execution_count": 7,
     "metadata": {},
     "output_type": "execute_result"
    }
   ],
   "source": [
    "# Muestra los primeros registros\n",
    "df.head()"
   ]
  },
  {
   "cell_type": "code",
   "execution_count": 11,
   "metadata": {},
   "outputs": [
    {
     "data": {
      "text/html": [
       "<div>\n",
       "<style scoped>\n",
       "    .dataframe tbody tr th:only-of-type {\n",
       "        vertical-align: middle;\n",
       "    }\n",
       "\n",
       "    .dataframe tbody tr th {\n",
       "        vertical-align: top;\n",
       "    }\n",
       "\n",
       "    .dataframe thead th {\n",
       "        text-align: right;\n",
       "    }\n",
       "</style>\n",
       "<table border=\"1\" class=\"dataframe\">\n",
       "  <thead>\n",
       "    <tr style=\"text-align: right;\">\n",
       "      <th></th>\n",
       "      <th>radio_mean</th>\n",
       "      <th>texture_mean</th>\n",
       "      <th>perimeter_mean</th>\n",
       "      <th>area_mean</th>\n",
       "      <th>smoothness_mean</th>\n",
       "      <th>compactness_mean</th>\n",
       "      <th>concavity_mean</th>\n",
       "      <th>concave_points_mean</th>\n",
       "      <th>symmetry_mean</th>\n",
       "      <th>fractal_dimension_mean</th>\n",
       "      <th>...</th>\n",
       "      <th>radio_worst</th>\n",
       "      <th>texture_worst</th>\n",
       "      <th>perimeter_worst</th>\n",
       "      <th>area_worst</th>\n",
       "      <th>smoothness_worst</th>\n",
       "      <th>compactness_worst</th>\n",
       "      <th>concavity_worst</th>\n",
       "      <th>concave_points_worst</th>\n",
       "      <th>symmetry_worst</th>\n",
       "      <th>fractal_dimension_worst</th>\n",
       "    </tr>\n",
       "  </thead>\n",
       "  <tbody>\n",
       "    <tr>\n",
       "      <th>count</th>\n",
       "      <td>569.000000</td>\n",
       "      <td>569.000000</td>\n",
       "      <td>569.000000</td>\n",
       "      <td>569.000000</td>\n",
       "      <td>569.000000</td>\n",
       "      <td>569.000000</td>\n",
       "      <td>569.000000</td>\n",
       "      <td>569.000000</td>\n",
       "      <td>569.000000</td>\n",
       "      <td>569.000000</td>\n",
       "      <td>...</td>\n",
       "      <td>569.000000</td>\n",
       "      <td>569.000000</td>\n",
       "      <td>569.000000</td>\n",
       "      <td>569.000000</td>\n",
       "      <td>569.000000</td>\n",
       "      <td>569.000000</td>\n",
       "      <td>569.000000</td>\n",
       "      <td>569.000000</td>\n",
       "      <td>569.000000</td>\n",
       "      <td>569.000000</td>\n",
       "    </tr>\n",
       "    <tr>\n",
       "      <th>mean</th>\n",
       "      <td>14.127292</td>\n",
       "      <td>19.289649</td>\n",
       "      <td>91.969033</td>\n",
       "      <td>654.889104</td>\n",
       "      <td>0.096360</td>\n",
       "      <td>0.104341</td>\n",
       "      <td>0.088799</td>\n",
       "      <td>0.048919</td>\n",
       "      <td>0.181162</td>\n",
       "      <td>0.062798</td>\n",
       "      <td>...</td>\n",
       "      <td>16.269190</td>\n",
       "      <td>25.677223</td>\n",
       "      <td>107.261213</td>\n",
       "      <td>880.583128</td>\n",
       "      <td>0.132369</td>\n",
       "      <td>0.254265</td>\n",
       "      <td>0.272188</td>\n",
       "      <td>0.114606</td>\n",
       "      <td>0.290076</td>\n",
       "      <td>0.083946</td>\n",
       "    </tr>\n",
       "    <tr>\n",
       "      <th>std</th>\n",
       "      <td>3.524049</td>\n",
       "      <td>4.301036</td>\n",
       "      <td>24.298981</td>\n",
       "      <td>351.914129</td>\n",
       "      <td>0.014064</td>\n",
       "      <td>0.052813</td>\n",
       "      <td>0.079720</td>\n",
       "      <td>0.038803</td>\n",
       "      <td>0.027414</td>\n",
       "      <td>0.007060</td>\n",
       "      <td>...</td>\n",
       "      <td>4.833242</td>\n",
       "      <td>6.146258</td>\n",
       "      <td>33.602542</td>\n",
       "      <td>569.356993</td>\n",
       "      <td>0.022832</td>\n",
       "      <td>0.157336</td>\n",
       "      <td>0.208624</td>\n",
       "      <td>0.065732</td>\n",
       "      <td>0.061867</td>\n",
       "      <td>0.018061</td>\n",
       "    </tr>\n",
       "    <tr>\n",
       "      <th>min</th>\n",
       "      <td>6.981000</td>\n",
       "      <td>9.710000</td>\n",
       "      <td>43.790000</td>\n",
       "      <td>143.500000</td>\n",
       "      <td>0.052630</td>\n",
       "      <td>0.019380</td>\n",
       "      <td>0.000000</td>\n",
       "      <td>0.000000</td>\n",
       "      <td>0.106000</td>\n",
       "      <td>0.049960</td>\n",
       "      <td>...</td>\n",
       "      <td>7.930000</td>\n",
       "      <td>12.020000</td>\n",
       "      <td>50.410000</td>\n",
       "      <td>185.200000</td>\n",
       "      <td>0.071170</td>\n",
       "      <td>0.027290</td>\n",
       "      <td>0.000000</td>\n",
       "      <td>0.000000</td>\n",
       "      <td>0.156500</td>\n",
       "      <td>0.055040</td>\n",
       "    </tr>\n",
       "    <tr>\n",
       "      <th>25%</th>\n",
       "      <td>11.700000</td>\n",
       "      <td>16.170000</td>\n",
       "      <td>75.170000</td>\n",
       "      <td>420.300000</td>\n",
       "      <td>0.086370</td>\n",
       "      <td>0.064920</td>\n",
       "      <td>0.029560</td>\n",
       "      <td>0.020310</td>\n",
       "      <td>0.161900</td>\n",
       "      <td>0.057700</td>\n",
       "      <td>...</td>\n",
       "      <td>13.010000</td>\n",
       "      <td>21.080000</td>\n",
       "      <td>84.110000</td>\n",
       "      <td>515.300000</td>\n",
       "      <td>0.116600</td>\n",
       "      <td>0.147200</td>\n",
       "      <td>0.114500</td>\n",
       "      <td>0.064930</td>\n",
       "      <td>0.250400</td>\n",
       "      <td>0.071460</td>\n",
       "    </tr>\n",
       "    <tr>\n",
       "      <th>50%</th>\n",
       "      <td>13.370000</td>\n",
       "      <td>18.840000</td>\n",
       "      <td>86.240000</td>\n",
       "      <td>551.100000</td>\n",
       "      <td>0.095870</td>\n",
       "      <td>0.092630</td>\n",
       "      <td>0.061540</td>\n",
       "      <td>0.033500</td>\n",
       "      <td>0.179200</td>\n",
       "      <td>0.061540</td>\n",
       "      <td>...</td>\n",
       "      <td>14.970000</td>\n",
       "      <td>25.410000</td>\n",
       "      <td>97.660000</td>\n",
       "      <td>686.500000</td>\n",
       "      <td>0.131300</td>\n",
       "      <td>0.211900</td>\n",
       "      <td>0.226700</td>\n",
       "      <td>0.099930</td>\n",
       "      <td>0.282200</td>\n",
       "      <td>0.080040</td>\n",
       "    </tr>\n",
       "    <tr>\n",
       "      <th>75%</th>\n",
       "      <td>15.780000</td>\n",
       "      <td>21.800000</td>\n",
       "      <td>104.100000</td>\n",
       "      <td>782.700000</td>\n",
       "      <td>0.105300</td>\n",
       "      <td>0.130400</td>\n",
       "      <td>0.130700</td>\n",
       "      <td>0.074000</td>\n",
       "      <td>0.195700</td>\n",
       "      <td>0.066120</td>\n",
       "      <td>...</td>\n",
       "      <td>18.790000</td>\n",
       "      <td>29.720000</td>\n",
       "      <td>125.400000</td>\n",
       "      <td>1084.000000</td>\n",
       "      <td>0.146000</td>\n",
       "      <td>0.339100</td>\n",
       "      <td>0.382900</td>\n",
       "      <td>0.161400</td>\n",
       "      <td>0.317900</td>\n",
       "      <td>0.092080</td>\n",
       "    </tr>\n",
       "    <tr>\n",
       "      <th>max</th>\n",
       "      <td>28.110000</td>\n",
       "      <td>39.280000</td>\n",
       "      <td>188.500000</td>\n",
       "      <td>2501.000000</td>\n",
       "      <td>0.163400</td>\n",
       "      <td>0.345400</td>\n",
       "      <td>0.426800</td>\n",
       "      <td>0.201200</td>\n",
       "      <td>0.304000</td>\n",
       "      <td>0.097440</td>\n",
       "      <td>...</td>\n",
       "      <td>36.040000</td>\n",
       "      <td>49.540000</td>\n",
       "      <td>251.200000</td>\n",
       "      <td>4254.000000</td>\n",
       "      <td>0.222600</td>\n",
       "      <td>1.058000</td>\n",
       "      <td>1.252000</td>\n",
       "      <td>0.291000</td>\n",
       "      <td>0.663800</td>\n",
       "      <td>0.207500</td>\n",
       "    </tr>\n",
       "  </tbody>\n",
       "</table>\n",
       "<p>8 rows × 30 columns</p>\n",
       "</div>"
      ],
      "text/plain": [
       "       radio_mean  texture_mean  perimeter_mean    area_mean  smoothness_mean  \\\n",
       "count  569.000000    569.000000      569.000000   569.000000       569.000000   \n",
       "mean    14.127292     19.289649       91.969033   654.889104         0.096360   \n",
       "std      3.524049      4.301036       24.298981   351.914129         0.014064   \n",
       "min      6.981000      9.710000       43.790000   143.500000         0.052630   \n",
       "25%     11.700000     16.170000       75.170000   420.300000         0.086370   \n",
       "50%     13.370000     18.840000       86.240000   551.100000         0.095870   \n",
       "75%     15.780000     21.800000      104.100000   782.700000         0.105300   \n",
       "max     28.110000     39.280000      188.500000  2501.000000         0.163400   \n",
       "\n",
       "       compactness_mean  concavity_mean  concave_points_mean  symmetry_mean  \\\n",
       "count        569.000000      569.000000           569.000000     569.000000   \n",
       "mean           0.104341        0.088799             0.048919       0.181162   \n",
       "std            0.052813        0.079720             0.038803       0.027414   \n",
       "min            0.019380        0.000000             0.000000       0.106000   \n",
       "25%            0.064920        0.029560             0.020310       0.161900   \n",
       "50%            0.092630        0.061540             0.033500       0.179200   \n",
       "75%            0.130400        0.130700             0.074000       0.195700   \n",
       "max            0.345400        0.426800             0.201200       0.304000   \n",
       "\n",
       "       fractal_dimension_mean  ...  radio_worst  texture_worst  \\\n",
       "count              569.000000  ...   569.000000     569.000000   \n",
       "mean                 0.062798  ...    16.269190      25.677223   \n",
       "std                  0.007060  ...     4.833242       6.146258   \n",
       "min                  0.049960  ...     7.930000      12.020000   \n",
       "25%                  0.057700  ...    13.010000      21.080000   \n",
       "50%                  0.061540  ...    14.970000      25.410000   \n",
       "75%                  0.066120  ...    18.790000      29.720000   \n",
       "max                  0.097440  ...    36.040000      49.540000   \n",
       "\n",
       "       perimeter_worst   area_worst  smoothness_worst  compactness_worst  \\\n",
       "count       569.000000   569.000000        569.000000         569.000000   \n",
       "mean        107.261213   880.583128          0.132369           0.254265   \n",
       "std          33.602542   569.356993          0.022832           0.157336   \n",
       "min          50.410000   185.200000          0.071170           0.027290   \n",
       "25%          84.110000   515.300000          0.116600           0.147200   \n",
       "50%          97.660000   686.500000          0.131300           0.211900   \n",
       "75%         125.400000  1084.000000          0.146000           0.339100   \n",
       "max         251.200000  4254.000000          0.222600           1.058000   \n",
       "\n",
       "       concavity_worst  concave_points_worst  symmetry_worst  \\\n",
       "count       569.000000            569.000000      569.000000   \n",
       "mean          0.272188              0.114606        0.290076   \n",
       "std           0.208624              0.065732        0.061867   \n",
       "min           0.000000              0.000000        0.156500   \n",
       "25%           0.114500              0.064930        0.250400   \n",
       "50%           0.226700              0.099930        0.282200   \n",
       "75%           0.382900              0.161400        0.317900   \n",
       "max           1.252000              0.291000        0.663800   \n",
       "\n",
       "       fractal_dimension_worst  \n",
       "count               569.000000  \n",
       "mean                  0.083946  \n",
       "std                   0.018061  \n",
       "min                   0.055040  \n",
       "25%                   0.071460  \n",
       "50%                   0.080040  \n",
       "75%                   0.092080  \n",
       "max                   0.207500  \n",
       "\n",
       "[8 rows x 30 columns]"
      ]
     },
     "execution_count": 11,
     "metadata": {},
     "output_type": "execute_result"
    }
   ],
   "source": [
    "# Resumen con estadisticos para cada atributo (sin considerar ID ni objetivo categorico)\n",
    "df.iloc[:, 2:].describe()"
   ]
  },
  {
   "cell_type": "markdown",
   "metadata": {},
   "source": [
    "### Identificación de tipo de dato"
   ]
  },
  {
   "cell_type": "code",
   "execution_count": 12,
   "metadata": {},
   "outputs": [
    {
     "name": "stdout",
     "output_type": "stream",
     "text": [
      "Cantidad de filas: 569\n",
      "\n",
      "Columnas:\n",
      "ID                           int64\n",
      "diagnosis                   object\n",
      "radio_mean                 float64\n",
      "texture_mean               float64\n",
      "perimeter_mean             float64\n",
      "area_mean                  float64\n",
      "smoothness_mean            float64\n",
      "compactness_mean           float64\n",
      "concavity_mean             float64\n",
      "concave_points_mean        float64\n",
      "symmetry_mean              float64\n",
      "fractal_dimension_mean     float64\n",
      "radio_std                  float64\n",
      "texture_std                float64\n",
      "perimeter_std              float64\n",
      "area_std                   float64\n",
      "smoothness_std             float64\n",
      "compactness_std            float64\n",
      "concavity_std              float64\n",
      "concave_points_std         float64\n",
      "symmetry_std               float64\n",
      "fractal_dimension_std      float64\n",
      "radio_worst                float64\n",
      "texture_worst              float64\n",
      "perimeter_worst            float64\n",
      "area_worst                 float64\n",
      "smoothness_worst           float64\n",
      "compactness_worst          float64\n",
      "concavity_worst            float64\n",
      "concave_points_worst       float64\n",
      "symmetry_worst             float64\n",
      "fractal_dimension_worst    float64\n",
      "dtype: object\n"
     ]
    }
   ],
   "source": [
    "# Muestra los tipos de datos de los atributos\n",
    "print(f\"Cantidad de filas: {df.shape[0]}\\n\")\n",
    "print(f\"Columnas:\\n{df.dtypes}\")"
   ]
  },
  {
   "cell_type": "code",
   "execution_count": 13,
   "metadata": {},
   "outputs": [
    {
     "name": "stdout",
     "output_type": "stream",
     "text": [
      "Cant. campo entero: 1 \n",
      "Cant. campo categórico: 1 \n",
      "Cant. campo real: 30\n"
     ]
    }
   ],
   "source": [
    "dtypes = df.dtypes\n",
    "inte_columns = dtypes[dtypes == 'int64'].count()\n",
    "real_columns = dtypes[dtypes == 'float64'].count()\n",
    "cate_columns = dtypes[dtypes == 'object'].count()\n",
    "print(f\"Cant. campo entero: {inte_columns} \\nCant. campo categórico: {cate_columns} \\nCant. campo real: {real_columns}\")"
   ]
  },
  {
   "cell_type": "markdown",
   "metadata": {},
   "source": [
    "Observaciones: El Data Frame ya tiene los tipos de datos unificados. Las variables reales son todas del tipo 'float64', el ID de registro es del tipo 'int64' y el target es categórico."
   ]
  },
  {
   "cell_type": "markdown",
   "metadata": {},
   "source": [
    "### Variables de Entrada"
   ]
  },
  {
   "cell_type": "markdown",
   "metadata": {},
   "source": [
    "Las características se calculan a partir de una imágenes de una masa mamaria. Describen características de los núcleos celulares presentes en la imagen. Algunas de las imágenes se pueden encontrar en http://www.cs.wisc.edu/~street/images/"
   ]
  },
  {
   "cell_type": "markdown",
   "metadata": {},
   "source": [
    "Los atributos categóricos son:\n",
    "\n",
    "Atributo | Descripción | Unidad\n",
    ":---: | :---: | :---:\n",
    "`ID` | Número de registro. | adimensional\n",
    "`diagnosis` | Clasificación en maligno o benigno. | adimensional           \n",
    "\n",
    "Los atributos continuos para un determinado tumor son calculados a partir de varias mediciones de una misma variable a partir de su correspondiente imagenes.\n",
    "Por ende, los siguientes atributos tendrán valor medio, desviación estándar y el peor valor (el que más tiende a un diagnóstico de maligno para ese tumor en particular).\n",
    "\n",
    "Atributo | Descripción | Unidad\n",
    ":---: | :---: | :---:\n",
    "`radio` | Distancia media desde el centro a los puntos en el perímetro. | μm\n",
    "`texture` | Desviación standard media de la escala de grises de la imagen. | adimensional\n",
    "`perimeter` | Perímetro medio del tumor. | μm\n",
    "`area` | Área media del tumor. | μm^2          \n",
    "`smoothness` | Variación local media de la longitud del radio. | adimensional     \n",
    "`compactness` | Valor medio de la compactación: perimeter^2 / area - 1.0. | adimensional\n",
    "`concavity` | Valor medio de la concavidad. | adimensional            \n",
    "`concave_points` | Valor medio de número de porciones cóncavas del contorno. | adimensional        \n",
    "`symmetry` | Valor de simetría media. | adimensional            \n",
    "`fractal_dimension` | Valor medio de \"coastline approximation\" - 1. | adimensional"
   ]
  },
  {
   "cell_type": "code",
   "execution_count": 15,
   "metadata": {},
   "outputs": [],
   "source": [
    "def distribuciones_reales(df):\n",
    "  \"\"\"\n",
    "  Genera la distribución de las características\n",
    "  numéricas almacenadas en el DataFrame de entrada.\n",
    "\n",
    "  :param:\n",
    "  :df: DataFrame con los atributos.\n",
    "  \"\"\"\n",
    "  # Obtén la lista de nombres de columnas numéricas\n",
    "  features_numericas = df.select_dtypes(include=['float64']).columns\n",
    "\n",
    "  # Itera sobre las columnas numéricas y grafica la distribución de cada una\n",
    "  for feature in features_numericas:\n",
    "    plt.figure(figsize=(8, 6))\n",
    "    sns.histplot(df[feature], bins=20, edgecolor=None, kde=True)\n",
    "    plt.title(f'Histograma de {feature}')\n",
    "    plt.xlabel(feature)\n",
    "    plt.ylabel('Frecuencia absoluta')\n",
    "    plt.grid(True)\n",
    "    plt.show()"
   ]
  },
  {
   "cell_type": "code",
   "execution_count": null,
   "metadata": {},
   "outputs": [],
   "source": [
    "distribuciones_reales(df)"
   ]
  },
  {
   "cell_type": "code",
   "execution_count": 17,
   "metadata": {},
   "outputs": [],
   "source": [
    "# Graficado de caracteristicas discriminado por M o B\n",
    "def distribuciones_discriminadas_reales(df):\n",
    "  \"\"\"\n",
    "  Genera la distribución de las características\n",
    "  numéricas almacenadas en el DataFrame de entrada\n",
    "  discriminando cuando el diagnóstico es \"maligno\"\n",
    "  y por otro lado cuando es \"benigno\".\n",
    "\n",
    "  :param:\n",
    "  :df: DataFrame con los atributos.\n",
    "  \"\"\"\n",
    "  # Filtrar registros cuando 'categoria' es 'M'\n",
    "  df_m = df[df['diagnosis'] == 'M']\n",
    "\n",
    "  # Filtrar registros cuando 'categoria' es 'B'\n",
    "  df_b = df[df['diagnosis'] == 'B']\n",
    "\n",
    "  # Obtener lista de nombres de campos numéricos\n",
    "  features_numericas = df.select_dtypes(include=['float64']).columns\n",
    "\n",
    "  # Plotear histogramas para cada campo numérico\n",
    "  for feature in features_numericas:\n",
    "    plt.figure(figsize=(8, 6))\n",
    "    # Histograma para 'M'\n",
    "    sns.histplot(df_m[feature], bins=20, edgecolor=None, color='red', label='M', alpha=0.5, kde=True)\n",
    "    # Histograma para 'B'\n",
    "    sns.histplot(df_b[feature], bins=20, edgecolor=None, color='green', label='B', alpha=0.5, kde=True)\n",
    "    plt.title(f'Histograma de {feature}')\n",
    "    plt.xlabel(feature)\n",
    "    plt.ylabel('Frecuencia absoluta')\n",
    "    plt.legend()\n",
    "    plt.grid(True)\n",
    "    plt.show()\n"
   ]
  },
  {
   "cell_type": "code",
   "execution_count": null,
   "metadata": {},
   "outputs": [],
   "source": [
    "distribuciones_discriminadas_reales(df)"
   ]
  },
  {
   "cell_type": "markdown",
   "metadata": {},
   "source": [
    "Pregunta:  - ¿Cómo se distribuyen las características para tumores benignos vs. malignos?. ¿Existen diferencias significativas en las distribuciones de estas características entre los dos tipos de diagnóstico?"
   ]
  },
  {
   "cell_type": "markdown",
   "metadata": {},
   "source": [
    "Respuesta: Se observó que en el caso benigno la media y desvío estándar de las características son menores que en el caso maligno. En el caso de la media el resultado es esperable dado que tumores con valores medios de radio_worst (o radio_mean) o concave_points_worst (entre otros) mayores tiende a ser un diagnóstico de tumor ,aligno. Además, en todos los casos ambas distribuciones (maligno/beningo) se encuentran separadas (si bien existe zona de superposción) permitiendo definir rangos empíricos de diagnóstico. También se observó que los máximos en el caso maligno son menores que en el caso benigno. En todos los casos cabe recordar que los histogramas presentados son luego de la estandarización de las características."
   ]
  },
  {
   "cell_type": "markdown",
   "metadata": {},
   "source": [
    "### Variables de salida"
   ]
  },
  {
   "cell_type": "markdown",
   "metadata": {},
   "source": [
    "Se observó que la cardinalidad de la variable categórica es baja, ya que presenta solo dos estados posibles: 'M' (maligno) ó 'B' (benigno). Además, los casos malignos representan aproximadamente el 50% de los casos benignos, lo que puso en evidencia que las clases están desbalanceadas. Esto invita a realizar un escalado de las características. "
   ]
  },
  {
   "cell_type": "markdown",
   "metadata": {},
   "source": [
    "## Ingeniería de Características"
   ]
  },
  {
   "cell_type": "markdown",
   "metadata": {},
   "source": [
    "### Faltantes"
   ]
  },
  {
   "cell_type": "code",
   "execution_count": 20,
   "metadata": {},
   "outputs": [],
   "source": [
    "def datos_faltantes(df):\n",
    "  \"\"\"\n",
    "  Permite conocer la cantidad de datos faltantes de\n",
    "  cada campo del Data Frame de ingresado.\n",
    "\n",
    "  :param:\n",
    "  :df: DataFrame con los atributos.\n",
    "  \"\"\"\n",
    "  campos = df.columns.tolist()\n",
    "  for campo in campos:\n",
    "    # Hay registros con datos faltantes?\n",
    "    print(f\"Cantidad de datos faltantes de {campo}: {df[campo].isna().sum()}\")"
   ]
  },
  {
   "cell_type": "code",
   "execution_count": 21,
   "metadata": {},
   "outputs": [
    {
     "name": "stdout",
     "output_type": "stream",
     "text": [
      "Cantidad de datos faltantes de ID: 0\n",
      "Cantidad de datos faltantes de diagnosis: 0\n",
      "Cantidad de datos faltantes de radio_mean: 0\n",
      "Cantidad de datos faltantes de texture_mean: 0\n",
      "Cantidad de datos faltantes de perimeter_mean: 0\n",
      "Cantidad de datos faltantes de area_mean: 0\n",
      "Cantidad de datos faltantes de smoothness_mean: 0\n",
      "Cantidad de datos faltantes de compactness_mean: 0\n",
      "Cantidad de datos faltantes de concavity_mean: 0\n",
      "Cantidad de datos faltantes de concave_points_mean: 0\n",
      "Cantidad de datos faltantes de symmetry_mean: 0\n",
      "Cantidad de datos faltantes de fractal_dimension_mean: 0\n",
      "Cantidad de datos faltantes de radio_std: 0\n",
      "Cantidad de datos faltantes de texture_std: 0\n",
      "Cantidad de datos faltantes de perimeter_std: 0\n",
      "Cantidad de datos faltantes de area_std: 0\n",
      "Cantidad de datos faltantes de smoothness_std: 0\n",
      "Cantidad de datos faltantes de compactness_std: 0\n",
      "Cantidad de datos faltantes de concavity_std: 0\n",
      "Cantidad de datos faltantes de concave_points_std: 0\n",
      "Cantidad de datos faltantes de symmetry_std: 0\n",
      "Cantidad de datos faltantes de fractal_dimension_std: 0\n",
      "Cantidad de datos faltantes de radio_worst: 0\n",
      "Cantidad de datos faltantes de texture_worst: 0\n",
      "Cantidad de datos faltantes de perimeter_worst: 0\n",
      "Cantidad de datos faltantes de area_worst: 0\n",
      "Cantidad de datos faltantes de smoothness_worst: 0\n",
      "Cantidad de datos faltantes de compactness_worst: 0\n",
      "Cantidad de datos faltantes de concavity_worst: 0\n",
      "Cantidad de datos faltantes de concave_points_worst: 0\n",
      "Cantidad de datos faltantes de symmetry_worst: 0\n",
      "Cantidad de datos faltantes de fractal_dimension_worst: 0\n"
     ]
    }
   ],
   "source": [
    "datos_faltantes(df)"
   ]
  },
  {
   "cell_type": "code",
   "execution_count": 23,
   "metadata": {},
   "outputs": [],
   "source": [
    "# Realiza el mapa de calor de datos faltantes\n",
    "def mapa_calor_faltantaes(df):\n",
    "  \"\"\"\n",
    "  Genera el mapa de calor para visualizar\n",
    "  donde se alojan los datos faltantes.\n",
    "\n",
    "  :param:\n",
    "  :df: DataFrame con los atributos.\n",
    "  \"\"\"\n",
    "  plt.figure(figsize=(10, 6))\n",
    "  sns.heatmap(df.isnull(), cbar=False, cmap='viridis')\n",
    "  plt.title('Mapa de Calor de Datos Faltantes')\n",
    "  plt.xlabel('Columna')\n",
    "  plt.ylabel('Registro')\n",
    "  plt.show()"
   ]
  },
  {
   "cell_type": "code",
   "execution_count": 24,
   "metadata": {},
   "outputs": [
    {
     "data": {
      "image/png": "[encoded data removed]",
      "text/plain": [
       "<Figure size 1000x600 with 1 Axes>"
      ]
     },
     "metadata": {},
     "output_type": "display_data"
    }
   ],
   "source": [
    "mapa_calor_faltantaes(df)"
   ]
  },
  {
   "cell_type": "markdown",
   "metadata": {},
   "source": [
    "Se busca si las características reales tienen valores numéricos que se asocian a faltantes, para ello se busca el rango de cada una de ellas."
   ]
  },
  {
   "cell_type": "code",
   "execution_count": 25,
   "metadata": {},
   "outputs": [
    {
     "data": {
      "text/html": [
       "<div>\n",
       "<style scoped>\n",
       "    .dataframe tbody tr th:only-of-type {\n",
       "        vertical-align: middle;\n",
       "    }\n",
       "\n",
       "    .dataframe tbody tr th {\n",
       "        vertical-align: top;\n",
       "    }\n",
       "\n",
       "    .dataframe thead th {\n",
       "        text-align: right;\n",
       "    }\n",
       "</style>\n",
       "<table border=\"1\" class=\"dataframe\">\n",
       "  <thead>\n",
       "    <tr style=\"text-align: right;\">\n",
       "      <th></th>\n",
       "      <th>ID</th>\n",
       "      <th>radio_mean</th>\n",
       "      <th>texture_mean</th>\n",
       "      <th>perimeter_mean</th>\n",
       "      <th>area_mean</th>\n",
       "      <th>smoothness_mean</th>\n",
       "      <th>compactness_mean</th>\n",
       "      <th>concavity_mean</th>\n",
       "      <th>concave_points_mean</th>\n",
       "      <th>symmetry_mean</th>\n",
       "      <th>...</th>\n",
       "      <th>radio_worst</th>\n",
       "      <th>texture_worst</th>\n",
       "      <th>perimeter_worst</th>\n",
       "      <th>area_worst</th>\n",
       "      <th>smoothness_worst</th>\n",
       "      <th>compactness_worst</th>\n",
       "      <th>concavity_worst</th>\n",
       "      <th>concave_points_worst</th>\n",
       "      <th>symmetry_worst</th>\n",
       "      <th>fractal_dimension_worst</th>\n",
       "    </tr>\n",
       "  </thead>\n",
       "  <tbody>\n",
       "    <tr>\n",
       "      <th>min</th>\n",
       "      <td>8670.0</td>\n",
       "      <td>6.981</td>\n",
       "      <td>9.71</td>\n",
       "      <td>43.79</td>\n",
       "      <td>143.5</td>\n",
       "      <td>0.05263</td>\n",
       "      <td>0.01938</td>\n",
       "      <td>0.0000</td>\n",
       "      <td>0.0000</td>\n",
       "      <td>0.106</td>\n",
       "      <td>...</td>\n",
       "      <td>7.93</td>\n",
       "      <td>12.02</td>\n",
       "      <td>50.41</td>\n",
       "      <td>185.2</td>\n",
       "      <td>0.07117</td>\n",
       "      <td>0.02729</td>\n",
       "      <td>0.000</td>\n",
       "      <td>0.000</td>\n",
       "      <td>0.1565</td>\n",
       "      <td>0.05504</td>\n",
       "    </tr>\n",
       "    <tr>\n",
       "      <th>max</th>\n",
       "      <td>911320502.0</td>\n",
       "      <td>28.110</td>\n",
       "      <td>39.28</td>\n",
       "      <td>188.50</td>\n",
       "      <td>2501.0</td>\n",
       "      <td>0.16340</td>\n",
       "      <td>0.34540</td>\n",
       "      <td>0.4268</td>\n",
       "      <td>0.2012</td>\n",
       "      <td>0.304</td>\n",
       "      <td>...</td>\n",
       "      <td>36.04</td>\n",
       "      <td>49.54</td>\n",
       "      <td>251.20</td>\n",
       "      <td>4254.0</td>\n",
       "      <td>0.22260</td>\n",
       "      <td>1.05800</td>\n",
       "      <td>1.252</td>\n",
       "      <td>0.291</td>\n",
       "      <td>0.6638</td>\n",
       "      <td>0.20750</td>\n",
       "    </tr>\n",
       "    <tr>\n",
       "      <th>range</th>\n",
       "      <td>911311832.0</td>\n",
       "      <td>21.129</td>\n",
       "      <td>29.57</td>\n",
       "      <td>144.71</td>\n",
       "      <td>2357.5</td>\n",
       "      <td>0.11077</td>\n",
       "      <td>0.32602</td>\n",
       "      <td>0.4268</td>\n",
       "      <td>0.2012</td>\n",
       "      <td>0.198</td>\n",
       "      <td>...</td>\n",
       "      <td>28.11</td>\n",
       "      <td>37.52</td>\n",
       "      <td>200.79</td>\n",
       "      <td>4068.8</td>\n",
       "      <td>0.15143</td>\n",
       "      <td>1.03071</td>\n",
       "      <td>1.252</td>\n",
       "      <td>0.291</td>\n",
       "      <td>0.5073</td>\n",
       "      <td>0.15246</td>\n",
       "    </tr>\n",
       "  </tbody>\n",
       "</table>\n",
       "<p>3 rows × 31 columns</p>\n",
       "</div>"
      ],
      "text/plain": [
       "                ID  radio_mean  texture_mean  perimeter_mean  area_mean  \\\n",
       "min         8670.0       6.981          9.71           43.79      143.5   \n",
       "max    911320502.0      28.110         39.28          188.50     2501.0   \n",
       "range  911311832.0      21.129         29.57          144.71     2357.5   \n",
       "\n",
       "       smoothness_mean  compactness_mean  concavity_mean  concave_points_mean  \\\n",
       "min            0.05263           0.01938          0.0000               0.0000   \n",
       "max            0.16340           0.34540          0.4268               0.2012   \n",
       "range          0.11077           0.32602          0.4268               0.2012   \n",
       "\n",
       "       symmetry_mean  ...  radio_worst  texture_worst  perimeter_worst  \\\n",
       "min            0.106  ...         7.93          12.02            50.41   \n",
       "max            0.304  ...        36.04          49.54           251.20   \n",
       "range          0.198  ...        28.11          37.52           200.79   \n",
       "\n",
       "       area_worst  smoothness_worst  compactness_worst  concavity_worst  \\\n",
       "min         185.2           0.07117            0.02729            0.000   \n",
       "max        4254.0           0.22260            1.05800            1.252   \n",
       "range      4068.8           0.15143            1.03071            1.252   \n",
       "\n",
       "       concave_points_worst  symmetry_worst  fractal_dimension_worst  \n",
       "min                   0.000          0.1565                  0.05504  \n",
       "max                   0.291          0.6638                  0.20750  \n",
       "range                 0.291          0.5073                  0.15246  \n",
       "\n",
       "[3 rows x 31 columns]"
      ]
     },
     "execution_count": 25,
     "metadata": {},
     "output_type": "execute_result"
    }
   ],
   "source": [
    "# Busca el rango de cada caracteristica\n",
    "rango = df.describe().loc[['min', 'max']]\n",
    "\n",
    "# Se agrega el indice 'range' y  se completa la fila creada con la diferencia entre 'max' y 'min'.\n",
    "rango.loc['range'] = rango.loc['max'] - rango.loc['min']\n",
    "\n",
    "# se presenta el rango de cada campo\n",
    "rango.head()"
   ]
  },
  {
   "cell_type": "markdown",
   "metadata": {},
   "source": [
    "Observaciones: Sabiendo que las variables miden magnitudes físicas positivas, se observó que en todos los casos los valores mínimos y máximos resultan consistentes (por ejemplo no existen valores -99 para indicar faltantes). Por otro lado, se vio que la magnitud del rango entre las diferentes características varía, lo que invita a realizar un escalamiento de las mismas."
   ]
  },
  {
   "cell_type": "markdown",
   "metadata": {},
   "source": [
    "Además, se busca si existe alguna observación que haya sido completada con algún caracter especial ('-' por ejemplo) para indicar faltantes."
   ]
  },
  {
   "cell_type": "code",
   "execution_count": 26,
   "metadata": {},
   "outputs": [
    {
     "name": "stdout",
     "output_type": "stream",
     "text": [
      "¿Existe alguna observación completada solo con '-': False\n"
     ]
    }
   ],
   "source": [
    "# Verifica si existe alguna fila con todos los valores como '-'\n",
    "hay_fila_con_solo_guiones = df.apply(lambda row: all(cell == '-' for cell in row), axis=1).any()\n",
    "\n",
    "print(f\"¿Existe alguna observación completada solo con '-': {hay_fila_con_solo_guiones}\")"
   ]
  },
  {
   "cell_type": "markdown",
   "metadata": {},
   "source": [
    "Observaciones: No existen valores faltantes en este dataset. No obstante dado que las variables miden magnitudes físicas de un tumor, es posible que no haya una independencia absoluta entre las características. Por ejemplo, si el radio del tumor es significativo favoreciendo que sea maligno, es probable que la cantidad de puntos convcavos también sea elevado.\n",
    "\n",
    "Frente a esto, si fuese el caso de faltantes, podrían aplicarse técnicas de reemplzado multivariada. Por ejemplo la imputación por vecinos cercanos o MICE (Multiple imputation by chained equations). Cabe mencionar que a la hora de elegir una técnica de reemplazo de faltantes es necesario identificar el si el motivo de la ausencia de datos se debe a motivos aleatorios o si tiene una explicación definida."
   ]
  },
  {
   "cell_type": "markdown",
   "metadata": {},
   "source": [
    "### Duplicados"
   ]
  },
  {
   "cell_type": "code",
   "execution_count": 27,
   "metadata": {},
   "outputs": [],
   "source": [
    "# Verifica si hay registros duplicados en todo el DataFrame\n",
    "def duplicados(df):\n",
    "  \"\"\"\n",
    "  Verifica si el DataFrame ingresado tiene\n",
    "  registros duplicados.\n",
    "\n",
    "  :param:\n",
    "  :df: DataFrame con los atributos.\n",
    "  \"\"\"\n",
    "  hay_duplicados = df.duplicated().any()\n",
    "\n",
    "  if hay_duplicados:\n",
    "      print(\"El DataFrame tiene registros duplicados.\")\n",
    "  else:\n",
    "      print(\"El DataFrame no tiene registros duplicados.\")"
   ]
  },
  {
   "cell_type": "code",
   "execution_count": 28,
   "metadata": {},
   "outputs": [
    {
     "name": "stdout",
     "output_type": "stream",
     "text": [
      "El DataFrame no tiene registros duplicados.\n"
     ]
    }
   ],
   "source": [
    "duplicados(df)"
   ]
  },
  {
   "cell_type": "markdown",
   "metadata": {},
   "source": [
    "### Correlación"
   ]
  },
  {
   "cell_type": "markdown",
   "metadata": {},
   "source": [
    "Pregunta: ¿Qué características entre las proporcionadas tienen mayor correlación entre si?.\n",
    "\n",
    "Se detectan 3 diagonales con valores cercanos (o iguales) a uno en el mapa anterior.\n",
    "\n",
    "La principal, que se extiende de la esquina superior izquierda a la esquina inferior derecha asociada a que se realiza la correlación entre una característica y si misma.\n",
    "\n",
    "Luego, se detectan dos diagonales abajo a la izquierda y arriba a la derecha del mapa. Esto está asociado la elevada correlación que hay entre el valor medio de una característica y el valor máximo de la misma. Con esto se pone en evidencia la dependencia que existe entre etas características.\n",
    "\n",
    "Para trabajar con un conjunto de características independientes,parecería conveniente eliminar los datos relacionados con los *worst values* (valores peores o valores máximos) de los atributos, para así mejorar el rendimiento del modelo (Guyon y Elisseeff, 2003) y quedarse con los valores medios (mean)."
   ]
  },
  {
   "cell_type": "markdown",
   "metadata": {},
   "source": [
    "### Selección Backward de características"
   ]
  },
  {
   "cell_type": "code",
   "execution_count": 29,
   "metadata": {},
   "outputs": [],
   "source": [
    "# Importa las clases necesarias\n",
    "from sklearn.feature_selection import RFE\n",
    "from sklearn.linear_model import LogisticRegression\n",
    "from sklearn.model_selection import train_test_split"
   ]
  },
  {
   "cell_type": "code",
   "execution_count": 30,
   "metadata": {},
   "outputs": [],
   "source": [
    "# Divide en variables independientes (X) y dependientes (y)\n",
    "X = df.drop('diagnosis', axis=1)\n",
    "y = df['diagnosis']"
   ]
  },
  {
   "cell_type": "code",
   "execution_count": 31,
   "metadata": {},
   "outputs": [],
   "source": [
    "# Establece el modelo de base\n",
    "model = LogisticRegression(solver='liblinear')"
   ]
  },
  {
   "cell_type": "code",
   "execution_count": 32,
   "metadata": {},
   "outputs": [],
   "source": [
    "# Aplica RFE para seleccion de caracteristicas (implementa el método wrapper backward eliminando las características menos importantes)\n",
    "rfe = RFE(model, n_features_to_select=5)  # Ajustar el número de características en 5\n",
    "fit = rfe.fit(X, y)"
   ]
  },
  {
   "cell_type": "code",
   "execution_count": 33,
   "metadata": {},
   "outputs": [
    {
     "name": "stdout",
     "output_type": "stream",
     "text": [
      "Selected Features: ['radio_mean', 'concavity_mean', 'radio_worst', 'concavity_worst', 'concave_points_worst']\n"
     ]
    }
   ],
   "source": [
    "# Evalua las caracteristicas seleccionadas\n",
    "selected_features = X.columns[fit.support_]\n",
    "print(f\"Selected Features: {selected_features.tolist()}\")"
   ]
  },
  {
   "cell_type": "code",
   "execution_count": 34,
   "metadata": {},
   "outputs": [
    {
     "name": "stdout",
     "output_type": "stream",
     "text": [
      "Feature Ranking: {'ID': 26, 'radio_mean': 1, 'texture_mean': 11, 'perimeter_mean': 13, 'area_mean': 25, 'smoothness_mean': 14, 'compactness_mean': 27, 'concavity_mean': 1, 'concave_points_mean': 2, 'symmetry_mean': 8, 'fractal_dimension_mean': 22, 'radio_std': 4, 'texture_std': 9, 'perimeter_std': 3, 'area_std': 7, 'smoothness_std': 23, 'compactness_std': 15, 'concavity_std': 16, 'concave_points_std': 20, 'symmetry_std': 19, 'fractal_dimension_std': 24, 'radio_worst': 1, 'texture_worst': 10, 'perimeter_worst': 5, 'area_worst': 21, 'smoothness_worst': 17, 'compactness_worst': 6, 'concavity_worst': 1, 'concave_points_worst': 1, 'symmetry_worst': 18, 'fractal_dimension_worst': 12}\n"
     ]
    }
   ],
   "source": [
    "# Para ver el ranking de todas las características\n",
    "ranking = fit.ranking_\n",
    "print(f\"Feature Ranking: {dict(zip(X.columns, ranking))}\")"
   ]
  },
  {
   "cell_type": "code",
   "execution_count": 35,
   "metadata": {},
   "outputs": [],
   "source": [
    "# Eliminacion de campos del dataframe\n",
    "def reduccion(df, lista):\n",
    "  \"\"\"\n",
    "  Elimina las columnas, dentro del rango\n",
    "  indicado, del dataframe de entrada.\n",
    "\n",
    "  :param:\n",
    "  :df: DataFrame con los atributos.\n",
    "  :lista: Columna a partir de la cual eliminar.\n",
    "  \"\"\"\n",
    "  # Crear un nuevo DataFrame solo con las columnas seleccionadas\n",
    "  df_red = df[lista]\n",
    "  \n",
    "  return df_red"
   ]
  },
  {
   "cell_type": "code",
   "execution_count": 36,
   "metadata": {},
   "outputs": [],
   "source": [
    "df_red =  reduccion(df, ['diagnosis', 'radio_mean', 'concavity_mean', 'radio_worst', 'concavity_worst', 'concave_points_worst'])"
   ]
  },
  {
   "cell_type": "markdown",
   "metadata": {},
   "source": [
    "### Modelos"
   ]
  },
  {
   "cell_type": "markdown",
   "metadata": {},
   "source": [
    "Originalmente la variable objetivo 'diagnosis' es categórica dado que puede tomar valors 'M' (maligno) o 'B' (benigno). Esto permite encarar la aplicación de algoritmos de clasificación. No obstante, la creación de la variable 'dummy' 'diagnosis_M' permite aplicar algoritmos de regresión dado la naturaleza numérica del objetivo creado.\n",
    "\n",
    "A partir de lo anterior, se decidió aplicar y comparar los resultados de los siguientes modelos:\n",
    "\n",
    "Regresión Logística.\n",
    "\n",
    "SVC.\n",
    "\n",
    "Árbol de Clasificación.\n",
    "\n",
    "Perceptrón."
   ]
  },
  {
   "cell_type": "markdown",
   "metadata": {},
   "source": [
    "El atributo (objetivo) categórico es:\n",
    "\n",
    "Atributo |\n",
    ":---: | \n",
    "`diagnosis`|         \n",
    "\n",
    "Luego del análisis de datos y de la ingeniería de características, se obtuvo que las\n",
    "características relevantes son :\n",
    "\n",
    "Atributo |\n",
    ":---: |\n",
    "`radio_mean` |\n",
    "`radio_worst` |    \n",
    "`concavity_mean` |     \n",
    "`concavity_worst`|\n",
    "`concave_points_worst`|\n"
   ]
  },
  {
   "cell_type": "code",
   "execution_count": 38,
   "metadata": {},
   "outputs": [],
   "source": [
    "# Importa split de datos, busqueda de hiper-parametros, estandarizacion y metricas\n",
    "from sklearn.model_selection import train_test_split, GridSearchCV\n",
    "from sklearn.preprocessing import StandardScaler\n",
    "from sklearn.metrics import precision_score, recall_score, f1_score, confusion_matrix, ConfusionMatrixDisplay"
   ]
  },
  {
   "cell_type": "code",
   "execution_count": 39,
   "metadata": {},
   "outputs": [],
   "source": [
    "# Separa las caracteristicas y el objetivo\n",
    "X = df.loc[:, ['radio_mean', 'radio_worst', 'concavity_mean', 'concavity_worst', 'concave_points_worst']].values\n",
    "y = df.loc[:, \"diagnosis\"].values"
   ]
  },
  {
   "cell_type": "code",
   "execution_count": 40,
   "metadata": {},
   "outputs": [],
   "source": [
    "# Divide los datos en conjunto de entrenamiento y prueba 80/20%\n",
    "X_train, X_test, y_train, y_test = train_test_split(X, y, test_size=0.2, random_state=42)"
   ]
  },
  {
   "cell_type": "markdown",
   "metadata": {},
   "source": [
    "Regresión Logística"
   ]
  },
  {
   "cell_type": "code",
   "execution_count": 41,
   "metadata": {},
   "outputs": [
    {
     "name": "stdout",
     "output_type": "stream",
     "text": [
      "Mejores hiperparámetros: LogisticRegression(C=100, max_iter=1000)\n",
      "Precision: 0.9767441860465116\n",
      "Recall: 0.9767441860465116\n",
      "F1 Score: 0.9767441860465116\n"
     ]
    },
    {
     "data": {
      "image/png": "[encoded data removed]",
      "text/plain": [
       "<Figure size 640x480 with 2 Axes>"
      ]
     },
     "metadata": {},
     "output_type": "display_data"
    }
   ],
   "source": [
    "# Importa el algoritmo\n",
    "from sklearn.linear_model import LogisticRegression\n",
    "\n",
    "# Define la grilla de hiper-parametros\n",
    "param_grid = {\n",
    "    'C': [0.1, 1, 10, 100],  # Hiperparámetro para la regularización\n",
    "    'solver': ['liblinear', 'lbfgs']  # Solvers para la optimización\n",
    "}\n",
    "\n",
    "# Asigna el modelo\n",
    "model = LogisticRegression(max_iter=1000)\n",
    "\n",
    "# Configura la busqueda de hiper-parametros por grilla con validacion cruzada\n",
    "grid_search = GridSearchCV(model, param_grid, cv=5, scoring='accuracy')\n",
    "\n",
    "# Entrena el modelo\n",
    "grid_search.fit(X_train, y_train)\n",
    "\n",
    "# Obtiene el mejor modelo\n",
    "best_model = grid_search.best_estimator_\n",
    "print(f\"Mejores hiperparámetros: {best_model}\")\n",
    "\n",
    "# Obtiene las metricas en el conjunto de prueba\n",
    "y_pred = best_model.predict(X_test)\n",
    "\n",
    "# Calcula metricas\n",
    "precision = precision_score(y_test, y_pred, pos_label='M')  # Asegúrate de que 'M' sea la etiqueta positiva\n",
    "recall = recall_score(y_test, y_pred, pos_label='M')\n",
    "f1 = f1_score(y_test, y_pred, pos_label='M')\n",
    "conf_matrix = confusion_matrix(y_test, y_pred, labels=['M', 'B'])\n",
    "\n",
    "# Muestra metricas\n",
    "print(f\"Precision: {precision}\")\n",
    "print(f\"Recall: {recall}\")\n",
    "print(f\"F1 Score: {f1}\")\n",
    "\n",
    "# Muestra matriz de confusion\n",
    "disp = ConfusionMatrixDisplay(confusion_matrix=conf_matrix, display_labels=['M', 'B'])\n",
    "disp.plot(cmap=plt.cm.Blues)\n",
    "plt.show()"
   ]
  },
  {
   "cell_type": "markdown",
   "metadata": {},
   "source": [
    "SVM"
   ]
  },
  {
   "cell_type": "code",
   "execution_count": 42,
   "metadata": {},
   "outputs": [
    {
     "name": "stdout",
     "output_type": "stream",
     "text": [
      "Mejores hiperparámetros: SVC(C=0.1, gamma='auto', kernel='poly')\n",
      "Precision: 0.9767441860465116\n",
      "Recall: 0.9767441860465116\n",
      "F1 Score: 0.9767441860465116\n"
     ]
    },
    {
     "data": {
      "image/png": "[encoded data removed]",
      "text/plain": [
       "<Figure size 640x480 with 2 Axes>"
      ]
     },
     "metadata": {},
     "output_type": "display_data"
    }
   ],
   "source": [
    "# Importa el algoritmo\n",
    "from sklearn.svm import SVC\n",
    "\n",
    "# Define la grilla de hiperparametros\n",
    "param_grid = {\n",
    "    'C': [0.1, 1, 10, 100],  # Hiperparámetro para la regularización\n",
    "    'kernel': ['linear', 'poly', 'rbf', 'sigmoid'],  # Tipos de núcleos\n",
    "    'gamma': ['scale', 'auto']  # Parámetro del núcleo\n",
    "}\n",
    "\n",
    "# Support Vector Classifier\n",
    "model = SVC()\n",
    "\n",
    "# Define la grilla de hiper-parametros\n",
    "grid_search = GridSearchCV(model, param_grid, cv=5, scoring='accuracy') \n",
    "\n",
    "# Entrena el modelo\n",
    "grid_search.fit(X_train,y_train)\n",
    "\n",
    "# Obtiene los mejores hiper-parametros\n",
    "best_model = grid_search.best_estimator_\n",
    "print(f\"Mejores hiperparámetros: {best_model}\")\n",
    "\n",
    "# Obtiene las metricas en el conjunto de prueba\n",
    "y_pred = best_model.predict(X_test)\n",
    "\n",
    "# Calcula metricas\n",
    "precision = precision_score(y_test, y_pred, pos_label='M')  # Asegúrate de que 'M' sea la etiqueta positiva\n",
    "recall = recall_score(y_test, y_pred, pos_label='M')\n",
    "f1 = f1_score(y_test, y_pred, pos_label='M')\n",
    "conf_matrix = confusion_matrix(y_test, y_pred, labels=['M', 'B'])\n",
    "\n",
    "# Muestra metricas\n",
    "print(f\"Precision: {precision}\")\n",
    "print(f\"Recall: {recall}\")\n",
    "print(f\"F1 Score: {f1}\")\n",
    "\n",
    "# Muestra matriz de confusion\n",
    "disp = ConfusionMatrixDisplay(confusion_matrix=conf_matrix, display_labels=['M', 'B'])\n",
    "disp.plot(cmap=plt.cm.Blues)\n",
    "plt.show()"
   ]
  },
  {
   "cell_type": "markdown",
   "metadata": {},
   "source": [
    "Árbol de Clasificación"
   ]
  },
  {
   "cell_type": "code",
   "execution_count": 43,
   "metadata": {},
   "outputs": [
    {
     "name": "stdout",
     "output_type": "stream",
     "text": [
      "Mejores hiperparámetros: DecisionTreeClassifier(max_depth=30, min_samples_leaf=4)\n",
      "Precision: 0.9285714285714286\n",
      "Recall: 0.9069767441860465\n",
      "F1 Score: 0.9176470588235294\n"
     ]
    },
    {
     "data": {
      "image/png": "[encoded data removed]",
      "text/plain": [
       "<Figure size 640x480 with 2 Axes>"
      ]
     },
     "metadata": {},
     "output_type": "display_data"
    }
   ],
   "source": [
    "# Importa el algoritmo\n",
    "from sklearn.tree import DecisionTreeClassifier\n",
    "\n",
    "# Crea el modelo de arbol de clasificacion\n",
    "model = DecisionTreeClassifier()\n",
    "\n",
    "# Define la grilla de hiper-parametros\n",
    "param_grid = {\n",
    "    'criterion': ['gini', 'entropy'],  # Funcion para medir la calidad de una division\n",
    "    'max_depth': [None, 10, 20, 30],   # Profundidad máxima del arbol\n",
    "    'min_samples_split': [2, 5, 10],   # Numero minimo de muestras requeridas para dividir un nodo\n",
    "    'min_samples_leaf': [1, 2, 4]      # Numero minimo de muestras requeridas para estar en una hoja\n",
    "}\n",
    "\n",
    "# Configura GridSearchCV\n",
    "grid_search = GridSearchCV(model, param_grid, cv=5, scoring='accuracy')\n",
    "\n",
    "# Entrena el modelo\n",
    "grid_search.fit(X_train, y_train)\n",
    "\n",
    "# Obtiene los mejores hiper-parametros\n",
    "best_model = grid_search.best_estimator_\n",
    "print(f\"Mejores hiperparámetros: {best_model}\")\n",
    "\n",
    "# Obtiene las metricas en el conjunto de prueba\n",
    "y_pred = best_model.predict(X_test)\n",
    "\n",
    "# Calcula metricas\n",
    "precision = precision_score(y_test, y_pred, pos_label='M')  # Asegúrate de que 'M' sea la etiqueta positiva\n",
    "recall = recall_score(y_test, y_pred, pos_label='M')\n",
    "f1 = f1_score(y_test, y_pred, pos_label='M')\n",
    "conf_matrix = confusion_matrix(y_test, y_pred, labels=['M', 'B'])\n",
    "\n",
    "# Muestra metricas\n",
    "print(f\"Precision: {precision}\")\n",
    "print(f\"Recall: {recall}\")\n",
    "print(f\"F1 Score: {f1}\")\n",
    "\n",
    "# Muestra matriz de confusion\n",
    "disp = ConfusionMatrixDisplay(confusion_matrix=conf_matrix, display_labels=['M', 'B'])\n",
    "disp.plot(cmap=plt.cm.Blues)\n",
    "plt.show()"
   ]
  },
  {
   "cell_type": "markdown",
   "metadata": {},
   "source": [
    "Perceptrón"
   ]
  },
  {
   "cell_type": "code",
   "execution_count": 44,
   "metadata": {},
   "outputs": [
    {
     "name": "stdout",
     "output_type": "stream",
     "text": [
      "Mejores hiperparámetros: Perceptron(eta0=0.1, penalty='elasticnet')\n",
      "Precision: 0.5584415584415584\n",
      "Recall: 1.0\n",
      "F1 Score: 0.7166666666666667\n"
     ]
    },
    {
     "data": {
      "image/png": "[encoded data removed]",
      "text/plain": [
       "<Figure size 640x480 with 2 Axes>"
      ]
     },
     "metadata": {},
     "output_type": "display_data"
    }
   ],
   "source": [
    "# Importa el algoritmo\n",
    "from sklearn.linear_model import Perceptron\n",
    "\n",
    "# Crea el modelo de perceptron\n",
    "model = Perceptron()\n",
    "\n",
    "# Define la grilla de hiper-parametros\n",
    "param_grid = {\n",
    "    'penalty': [None, 'l2', 'l1', 'elasticnet'],  # Tipo de regularizacion\n",
    "    'alpha': [0.0001, 0.001, 0.01],  # Parametro de regularizacion\n",
    "    'max_iter': [1000, 5000, 10000],  # Numero maximo de iteraciones\n",
    "    'eta0': [1.0, 0.1, 0.01]  # Tasa de aprendizaje inicial\n",
    "}\n",
    "\n",
    "# Realiza la busqueda de hiperparametros con GridSearchCV\n",
    "grid_search = GridSearchCV(model, param_grid, cv=5, scoring='accuracy')\n",
    "\n",
    "# Entrena el modelo\n",
    "grid_search.fit(X_train, y_train)\n",
    "\n",
    "# Obtiene los mejores hiperparametros\n",
    "best_model = grid_search.best_estimator_\n",
    "print(\"Mejores hiperparámetros:\", best_model)\n",
    "\n",
    "# Obtiene las metricas en el conjunto de prueba\n",
    "y_pred = best_model.predict(X_test)\n",
    "\n",
    "# Calcula metricas\n",
    "precision = precision_score(y_test, y_pred, pos_label='M')  # Asegúrate de que 'M' sea la etiqueta positiva\n",
    "recall = recall_score(y_test, y_pred, pos_label='M')\n",
    "f1 = f1_score(y_test, y_pred, pos_label='M')\n",
    "conf_matrix = confusion_matrix(y_test, y_pred, labels=['M', 'B'])\n",
    "\n",
    "# Muestra metricas\n",
    "print(f\"Precision: {precision}\")\n",
    "print(f\"Recall: {recall}\")\n",
    "print(f\"F1 Score: {f1}\")\n",
    "\n",
    "# Muestra matriz de confusion\n",
    "disp = ConfusionMatrixDisplay(confusion_matrix=conf_matrix, display_labels=['M', 'B'])\n",
    "disp.plot(cmap=plt.cm.Blues)\n",
    "plt.show()"
   ]
  },
  {
   "cell_type": "markdown",
   "metadata": {},
   "source": [
    "Se realizó una tabla comparativa de los resultados de las métricas sobre el conjunto datos de prueba:\n",
    "\n",
    "| Modelo                 | Presición | Recall | F1-Score |\n",
    "|------------------------|-----------|--------|----------|\n",
    "| Regresión Logistica    |    0.90   |  0.97  |   0.93   |\n",
    "| SVC                    |    0.90   |  0.94  |   0.92   |\n",
    "| Árbol de Clasificación |    0.92   |  0.92  |   0.92   |\n",
    "| Perceptrón             |    0.59   |  0.92  |   0.72   |"
   ]
  },
  {
   "cell_type": "markdown",
   "metadata": {},
   "source": [
    "Conclusiones: En general las métricas arrojan una buena performance de los cuatro modelos. El que menos performance muestra es el perceptrón. No obstante, la mejor precisión (0.97) se obtiene con el conjunto completo de características como se muestra en https://archive.ics.uci.edu/dataset/17/breast+cancer+wisconsin+diagnostic utilizando Random Forest con un valor de 0.98 de valor medio de precisión:"
   ]
  },
  {
   "attachments": {
    "image.png": {
     "image/png": "[encoded data removed]"
    }
   },
   "cell_type": "markdown",
   "metadata": {},
   "source": [
    "![image.png](attachment:image.png)"
   ]
  },
  {
   "cell_type": "markdown",
   "metadata": {},
   "source": [
    "Pregunta: Cómo se comparan las características de los tumores benignos más cercanos a la frontera de clasificación con los tumores malignos?. Es decir, analizar los casos que son más difíciles de clasificar, aquellos que están cerca de la frontera de decisión de un clasificador. "
   ]
  },
  {
   "cell_type": "code",
   "execution_count": 45,
   "metadata": {},
   "outputs": [],
   "source": [
    "# Prepara los datos\n",
    "X = df[['radio_mean', 'concavity_mean', 'radio_worst', 'concavity_worst', 'concave_points_worst']]\n",
    "y = df['diagnosis'].map({'M': 1, 'B': 0})\n",
    "\n",
    "# Divide los datos en conjuntos de entrenamiento y prueba\n",
    "X_train, X_test, y_train, y_test = train_test_split(X, y, test_size=0.2, random_state=42)"
   ]
  },
  {
   "cell_type": "code",
   "execution_count": 46,
   "metadata": {},
   "outputs": [
    {
     "data": {
      "text/html": [
       "<style>#sk-container-id-1 {\n",
       "  /* Definition of color scheme common for light and dark mode */\n",
       "  --sklearn-color-text: black;\n",
       "  --sklearn-color-line: gray;\n",
       "  /* Definition of color scheme for unfitted estimators */\n",
       "  --sklearn-color-unfitted-level-0: #fff5e6;\n",
       "  --sklearn-color-unfitted-level-1: #f6e4d2;\n",
       "  --sklearn-color-unfitted-level-2: #ffe0b3;\n",
       "  --sklearn-color-unfitted-level-3: chocolate;\n",
       "  /* Definition of color scheme for fitted estimators */\n",
       "  --sklearn-color-fitted-level-0: #f0f8ff;\n",
       "  --sklearn-color-fitted-level-1: #d4ebff;\n",
       "  --sklearn-color-fitted-level-2: #b3dbfd;\n",
       "  --sklearn-color-fitted-level-3: cornflowerblue;\n",
       "\n",
       "  /* Specific color for light theme */\n",
       "  --sklearn-color-text-on-default-background: var(--sg-text-color, var(--theme-code-foreground, var(--jp-content-font-color1, black)));\n",
       "  --sklearn-color-background: var(--sg-background-color, var(--theme-background, var(--jp-layout-color0, white)));\n",
       "  --sklearn-color-border-box: var(--sg-text-color, var(--theme-code-foreground, var(--jp-content-font-color1, black)));\n",
       "  --sklearn-color-icon: #696969;\n",
       "\n",
       "  @media (prefers-color-scheme: dark) {\n",
       "    /* Redefinition of color scheme for dark theme */\n",
       "    --sklearn-color-text-on-default-background: var(--sg-text-color, var(--theme-code-foreground, var(--jp-content-font-color1, white)));\n",
       "    --sklearn-color-background: var(--sg-background-color, var(--theme-background, var(--jp-layout-color0, #111)));\n",
       "    --sklearn-color-border-box: var(--sg-text-color, var(--theme-code-foreground, var(--jp-content-font-color1, white)));\n",
       "    --sklearn-color-icon: #878787;\n",
       "  }\n",
       "}\n",
       "\n",
       "#sk-container-id-1 {\n",
       "  color: var(--sklearn-color-text);\n",
       "}\n",
       "\n",
       "#sk-container-id-1 pre {\n",
       "  padding: 0;\n",
       "}\n",
       "\n",
       "#sk-container-id-1 input.sk-hidden--visually {\n",
       "  border: 0;\n",
       "  clip: rect(1px 1px 1px 1px);\n",
       "  clip: rect(1px, 1px, 1px, 1px);\n",
       "  height: 1px;\n",
       "  margin: -1px;\n",
       "  overflow: hidden;\n",
       "  padding: 0;\n",
       "  position: absolute;\n",
       "  width: 1px;\n",
       "}\n",
       "\n",
       "#sk-container-id-1 div.sk-dashed-wrapped {\n",
       "  border: 1px dashed var(--sklearn-color-line);\n",
       "  margin: 0 0.4em 0.5em 0.4em;\n",
       "  box-sizing: border-box;\n",
       "  padding-bottom: 0.4em;\n",
       "  background-color: var(--sklearn-color-background);\n",
       "}\n",
       "\n",
       "#sk-container-id-1 div.sk-container {\n",
       "  /* jupyter's `normalize.less` sets `[hidden] { display: none; }`\n",
       "     but bootstrap.min.css set `[hidden] { display: none !important; }`\n",
       "     so we also need the `!important` here to be able to override the\n",
       "     default hidden behavior on the sphinx rendered scikit-learn.org.\n",
       "     See: https://github.com/scikit-learn/scikit-learn/issues/21755 */\n",
       "  display: inline-block !important;\n",
       "  position: relative;\n",
       "}\n",
       "\n",
       "#sk-container-id-1 div.sk-text-repr-fallback {\n",
       "  display: none;\n",
       "}\n",
       "\n",
       "div.sk-parallel-item,\n",
       "div.sk-serial,\n",
       "div.sk-item {\n",
       "  /* draw centered vertical line to link estimators */\n",
       "  background-image: linear-gradient(var(--sklearn-color-text-on-default-background), var(--sklearn-color-text-on-default-background));\n",
       "  background-size: 2px 100%;\n",
       "  background-repeat: no-repeat;\n",
       "  background-position: center center;\n",
       "}\n",
       "\n",
       "/* Parallel-specific style estimator block */\n",
       "\n",
       "#sk-container-id-1 div.sk-parallel-item::after {\n",
       "  content: \"\";\n",
       "  width: 100%;\n",
       "  border-bottom: 2px solid var(--sklearn-color-text-on-default-background);\n",
       "  flex-grow: 1;\n",
       "}\n",
       "\n",
       "#sk-container-id-1 div.sk-parallel {\n",
       "  display: flex;\n",
       "  align-items: stretch;\n",
       "  justify-content: center;\n",
       "  background-color: var(--sklearn-color-background);\n",
       "  position: relative;\n",
       "}\n",
       "\n",
       "#sk-container-id-1 div.sk-parallel-item {\n",
       "  display: flex;\n",
       "  flex-direction: column;\n",
       "}\n",
       "\n",
       "#sk-container-id-1 div.sk-parallel-item:first-child::after {\n",
       "  align-self: flex-end;\n",
       "  width: 50%;\n",
       "}\n",
       "\n",
       "#sk-container-id-1 div.sk-parallel-item:last-child::after {\n",
       "  align-self: flex-start;\n",
       "  width: 50%;\n",
       "}\n",
       "\n",
       "#sk-container-id-1 div.sk-parallel-item:only-child::after {\n",
       "  width: 0;\n",
       "}\n",
       "\n",
       "/* Serial-specific style estimator block */\n",
       "\n",
       "#sk-container-id-1 div.sk-serial {\n",
       "  display: flex;\n",
       "  flex-direction: column;\n",
       "  align-items: center;\n",
       "  background-color: var(--sklearn-color-background);\n",
       "  padding-right: 1em;\n",
       "  padding-left: 1em;\n",
       "}\n",
       "\n",
       "\n",
       "/* Toggleable style: style used for estimator/Pipeline/ColumnTransformer box that is\n",
       "clickable and can be expanded/collapsed.\n",
       "- Pipeline and ColumnTransformer use this feature and define the default style\n",
       "- Estimators will overwrite some part of the style using the `sk-estimator` class\n",
       "*/\n",
       "\n",
       "/* Pipeline and ColumnTransformer style (default) */\n",
       "\n",
       "#sk-container-id-1 div.sk-toggleable {\n",
       "  /* Default theme specific background. It is overwritten whether we have a\n",
       "  specific estimator or a Pipeline/ColumnTransformer */\n",
       "  background-color: var(--sklearn-color-background);\n",
       "}\n",
       "\n",
       "/* Toggleable label */\n",
       "#sk-container-id-1 label.sk-toggleable__label {\n",
       "  cursor: pointer;\n",
       "  display: block;\n",
       "  width: 100%;\n",
       "  margin-bottom: 0;\n",
       "  padding: 0.5em;\n",
       "  box-sizing: border-box;\n",
       "  text-align: center;\n",
       "}\n",
       "\n",
       "#sk-container-id-1 label.sk-toggleable__label-arrow:before {\n",
       "  /* Arrow on the left of the label */\n",
       "  content: \"▸\";\n",
       "  float: left;\n",
       "  margin-right: 0.25em;\n",
       "  color: var(--sklearn-color-icon);\n",
       "}\n",
       "\n",
       "#sk-container-id-1 label.sk-toggleable__label-arrow:hover:before {\n",
       "  color: var(--sklearn-color-text);\n",
       "}\n",
       "\n",
       "/* Toggleable content - dropdown */\n",
       "\n",
       "#sk-container-id-1 div.sk-toggleable__content {\n",
       "  max-height: 0;\n",
       "  max-width: 0;\n",
       "  overflow: hidden;\n",
       "  text-align: left;\n",
       "  /* unfitted */\n",
       "  background-color: var(--sklearn-color-unfitted-level-0);\n",
       "}\n",
       "\n",
       "#sk-container-id-1 div.sk-toggleable__content.fitted {\n",
       "  /* fitted */\n",
       "  background-color: var(--sklearn-color-fitted-level-0);\n",
       "}\n",
       "\n",
       "#sk-container-id-1 div.sk-toggleable__content pre {\n",
       "  margin: 0.2em;\n",
       "  border-radius: 0.25em;\n",
       "  color: var(--sklearn-color-text);\n",
       "  /* unfitted */\n",
       "  background-color: var(--sklearn-color-unfitted-level-0);\n",
       "}\n",
       "\n",
       "#sk-container-id-1 div.sk-toggleable__content.fitted pre {\n",
       "  /* unfitted */\n",
       "  background-color: var(--sklearn-color-fitted-level-0);\n",
       "}\n",
       "\n",
       "#sk-container-id-1 input.sk-toggleable__control:checked~div.sk-toggleable__content {\n",
       "  /* Expand drop-down */\n",
       "  max-height: 200px;\n",
       "  max-width: 100%;\n",
       "  overflow: auto;\n",
       "}\n",
       "\n",
       "#sk-container-id-1 input.sk-toggleable__control:checked~label.sk-toggleable__label-arrow:before {\n",
       "  content: \"▾\";\n",
       "}\n",
       "\n",
       "/* Pipeline/ColumnTransformer-specific style */\n",
       "\n",
       "#sk-container-id-1 div.sk-label input.sk-toggleable__control:checked~label.sk-toggleable__label {\n",
       "  color: var(--sklearn-color-text);\n",
       "  background-color: var(--sklearn-color-unfitted-level-2);\n",
       "}\n",
       "\n",
       "#sk-container-id-1 div.sk-label.fitted input.sk-toggleable__control:checked~label.sk-toggleable__label {\n",
       "  background-color: var(--sklearn-color-fitted-level-2);\n",
       "}\n",
       "\n",
       "/* Estimator-specific style */\n",
       "\n",
       "/* Colorize estimator box */\n",
       "#sk-container-id-1 div.sk-estimator input.sk-toggleable__control:checked~label.sk-toggleable__label {\n",
       "  /* unfitted */\n",
       "  background-color: var(--sklearn-color-unfitted-level-2);\n",
       "}\n",
       "\n",
       "#sk-container-id-1 div.sk-estimator.fitted input.sk-toggleable__control:checked~label.sk-toggleable__label {\n",
       "  /* fitted */\n",
       "  background-color: var(--sklearn-color-fitted-level-2);\n",
       "}\n",
       "\n",
       "#sk-container-id-1 div.sk-label label.sk-toggleable__label,\n",
       "#sk-container-id-1 div.sk-label label {\n",
       "  /* The background is the default theme color */\n",
       "  color: var(--sklearn-color-text-on-default-background);\n",
       "}\n",
       "\n",
       "/* On hover, darken the color of the background */\n",
       "#sk-container-id-1 div.sk-label:hover label.sk-toggleable__label {\n",
       "  color: var(--sklearn-color-text);\n",
       "  background-color: var(--sklearn-color-unfitted-level-2);\n",
       "}\n",
       "\n",
       "/* Label box, darken color on hover, fitted */\n",
       "#sk-container-id-1 div.sk-label.fitted:hover label.sk-toggleable__label.fitted {\n",
       "  color: var(--sklearn-color-text);\n",
       "  background-color: var(--sklearn-color-fitted-level-2);\n",
       "}\n",
       "\n",
       "/* Estimator label */\n",
       "\n",
       "#sk-container-id-1 div.sk-label label {\n",
       "  font-family: monospace;\n",
       "  font-weight: bold;\n",
       "  display: inline-block;\n",
       "  line-height: 1.2em;\n",
       "}\n",
       "\n",
       "#sk-container-id-1 div.sk-label-container {\n",
       "  text-align: center;\n",
       "}\n",
       "\n",
       "/* Estimator-specific */\n",
       "#sk-container-id-1 div.sk-estimator {\n",
       "  font-family: monospace;\n",
       "  border: 1px dotted var(--sklearn-color-border-box);\n",
       "  border-radius: 0.25em;\n",
       "  box-sizing: border-box;\n",
       "  margin-bottom: 0.5em;\n",
       "  /* unfitted */\n",
       "  background-color: var(--sklearn-color-unfitted-level-0);\n",
       "}\n",
       "\n",
       "#sk-container-id-1 div.sk-estimator.fitted {\n",
       "  /* fitted */\n",
       "  background-color: var(--sklearn-color-fitted-level-0);\n",
       "}\n",
       "\n",
       "/* on hover */\n",
       "#sk-container-id-1 div.sk-estimator:hover {\n",
       "  /* unfitted */\n",
       "  background-color: var(--sklearn-color-unfitted-level-2);\n",
       "}\n",
       "\n",
       "#sk-container-id-1 div.sk-estimator.fitted:hover {\n",
       "  /* fitted */\n",
       "  background-color: var(--sklearn-color-fitted-level-2);\n",
       "}\n",
       "\n",
       "/* Specification for estimator info (e.g. \"i\" and \"?\") */\n",
       "\n",
       "/* Common style for \"i\" and \"?\" */\n",
       "\n",
       ".sk-estimator-doc-link,\n",
       "a:link.sk-estimator-doc-link,\n",
       "a:visited.sk-estimator-doc-link {\n",
       "  float: right;\n",
       "  font-size: smaller;\n",
       "  line-height: 1em;\n",
       "  font-family: monospace;\n",
       "  background-color: var(--sklearn-color-background);\n",
       "  border-radius: 1em;\n",
       "  height: 1em;\n",
       "  width: 1em;\n",
       "  text-decoration: none !important;\n",
       "  margin-left: 1ex;\n",
       "  /* unfitted */\n",
       "  border: var(--sklearn-color-unfitted-level-1) 1pt solid;\n",
       "  color: var(--sklearn-color-unfitted-level-1);\n",
       "}\n",
       "\n",
       ".sk-estimator-doc-link.fitted,\n",
       "a:link.sk-estimator-doc-link.fitted,\n",
       "a:visited.sk-estimator-doc-link.fitted {\n",
       "  /* fitted */\n",
       "  border: var(--sklearn-color-fitted-level-1) 1pt solid;\n",
       "  color: var(--sklearn-color-fitted-level-1);\n",
       "}\n",
       "\n",
       "/* On hover */\n",
       "div.sk-estimator:hover .sk-estimator-doc-link:hover,\n",
       ".sk-estimator-doc-link:hover,\n",
       "div.sk-label-container:hover .sk-estimator-doc-link:hover,\n",
       ".sk-estimator-doc-link:hover {\n",
       "  /* unfitted */\n",
       "  background-color: var(--sklearn-color-unfitted-level-3);\n",
       "  color: var(--sklearn-color-background);\n",
       "  text-decoration: none;\n",
       "}\n",
       "\n",
       "div.sk-estimator.fitted:hover .sk-estimator-doc-link.fitted:hover,\n",
       ".sk-estimator-doc-link.fitted:hover,\n",
       "div.sk-label-container:hover .sk-estimator-doc-link.fitted:hover,\n",
       ".sk-estimator-doc-link.fitted:hover {\n",
       "  /* fitted */\n",
       "  background-color: var(--sklearn-color-fitted-level-3);\n",
       "  color: var(--sklearn-color-background);\n",
       "  text-decoration: none;\n",
       "}\n",
       "\n",
       "/* Span, style for the box shown on hovering the info icon */\n",
       ".sk-estimator-doc-link span {\n",
       "  display: none;\n",
       "  z-index: 9999;\n",
       "  position: relative;\n",
       "  font-weight: normal;\n",
       "  right: .2ex;\n",
       "  padding: .5ex;\n",
       "  margin: .5ex;\n",
       "  width: min-content;\n",
       "  min-width: 20ex;\n",
       "  max-width: 50ex;\n",
       "  color: var(--sklearn-color-text);\n",
       "  box-shadow: 2pt 2pt 4pt #999;\n",
       "  /* unfitted */\n",
       "  background: var(--sklearn-color-unfitted-level-0);\n",
       "  border: .5pt solid var(--sklearn-color-unfitted-level-3);\n",
       "}\n",
       "\n",
       ".sk-estimator-doc-link.fitted span {\n",
       "  /* fitted */\n",
       "  background: var(--sklearn-color-fitted-level-0);\n",
       "  border: var(--sklearn-color-fitted-level-3);\n",
       "}\n",
       "\n",
       ".sk-estimator-doc-link:hover span {\n",
       "  display: block;\n",
       "}\n",
       "\n",
       "/* \"?\"-specific style due to the `<a>` HTML tag */\n",
       "\n",
       "#sk-container-id-1 a.estimator_doc_link {\n",
       "  float: right;\n",
       "  font-size: 1rem;\n",
       "  line-height: 1em;\n",
       "  font-family: monospace;\n",
       "  background-color: var(--sklearn-color-background);\n",
       "  border-radius: 1rem;\n",
       "  height: 1rem;\n",
       "  width: 1rem;\n",
       "  text-decoration: none;\n",
       "  /* unfitted */\n",
       "  color: var(--sklearn-color-unfitted-level-1);\n",
       "  border: var(--sklearn-color-unfitted-level-1) 1pt solid;\n",
       "}\n",
       "\n",
       "#sk-container-id-1 a.estimator_doc_link.fitted {\n",
       "  /* fitted */\n",
       "  border: var(--sklearn-color-fitted-level-1) 1pt solid;\n",
       "  color: var(--sklearn-color-fitted-level-1);\n",
       "}\n",
       "\n",
       "/* On hover */\n",
       "#sk-container-id-1 a.estimator_doc_link:hover {\n",
       "  /* unfitted */\n",
       "  background-color: var(--sklearn-color-unfitted-level-3);\n",
       "  color: var(--sklearn-color-background);\n",
       "  text-decoration: none;\n",
       "}\n",
       "\n",
       "#sk-container-id-1 a.estimator_doc_link.fitted:hover {\n",
       "  /* fitted */\n",
       "  background-color: var(--sklearn-color-fitted-level-3);\n",
       "}\n",
       "</style><div id=\"sk-container-id-1\" class=\"sk-top-container\"><div class=\"sk-text-repr-fallback\"><pre>LogisticRegression(max_iter=1000)</pre><b>In a Jupyter environment, please rerun this cell to show the HTML representation or trust the notebook. <br />On GitHub, the HTML representation is unable to render, please try loading this page with nbviewer.org.</b></div><div class=\"sk-container\" hidden><div class=\"sk-item\"><div class=\"sk-estimator fitted sk-toggleable\"><input class=\"sk-toggleable__control sk-hidden--visually\" id=\"sk-estimator-id-1\" type=\"checkbox\" checked><label for=\"sk-estimator-id-1\" class=\"sk-toggleable__label fitted sk-toggleable__label-arrow fitted\">&nbsp;&nbsp;LogisticRegression<a class=\"sk-estimator-doc-link fitted\" rel=\"noreferrer\" target=\"_blank\" href=\"https://scikit-learn.org/1.5/modules/generated/sklearn.linear_model.LogisticRegression.html\">?<span>Documentation for LogisticRegression</span></a><span class=\"sk-estimator-doc-link fitted\">i<span>Fitted</span></span></label><div class=\"sk-toggleable__content fitted\"><pre>LogisticRegression(max_iter=1000)</pre></div> </div></div></div></div>"
      ],
      "text/plain": [
       "LogisticRegression(max_iter=1000)"
      ]
     },
     "execution_count": 46,
     "metadata": {},
     "output_type": "execute_result"
    }
   ],
   "source": [
    "# Entrena un modelo de regresion logistica\n",
    "model = LogisticRegression(max_iter=1000)\n",
    "model.fit(X_train, y_train)"
   ]
  },
  {
   "cell_type": "code",
   "execution_count": 47,
   "metadata": {},
   "outputs": [],
   "source": [
    "# Obtiene las probabilidades de clasificacion para las muestras de prueba\n",
    "probabilities = model.predict_proba(X_test)[:, 1]  # Probabilidad de la clase 'M'"
   ]
  },
  {
   "cell_type": "code",
   "execution_count": 48,
   "metadata": {},
   "outputs": [],
   "source": [
    "# Determina la distancia de las probabilidades al umbral 0.5\n",
    "distance_to_boundary = np.abs(probabilities - 0.5)"
   ]
  },
  {
   "cell_type": "code",
   "execution_count": 49,
   "metadata": {},
   "outputs": [],
   "source": [
    "# Crea un DataFrame para analizar los casos cercanos a la frontera\n",
    "results = X_test.copy()\n",
    "results['probability_M'] = probabilities\n",
    "results['true_label'] = y_test.values\n",
    "results['distance_to_boundary'] = distance_to_boundary\n",
    "results['predicted_label'] = model.predict(X_test)"
   ]
  },
  {
   "cell_type": "code",
   "execution_count": 50,
   "metadata": {},
   "outputs": [],
   "source": [
    "# Filtra los tumores benignos y malignos mas cercanos a la frontera\n",
    "benign_near_boundary = results[(results['true_label'] == 0) & (results['distance_to_boundary'] < 0.1)]\n",
    "malignant_near_boundary = results[(results['true_label'] == 1) & (results['distance_to_boundary'] < 0.1)]"
   ]
  },
  {
   "cell_type": "code",
   "execution_count": 56,
   "metadata": {},
   "outputs": [
    {
     "name": "stdout",
     "output_type": "stream",
     "text": [
      "Collecting tabulate\n",
      "  Downloading tabulate-0.9.0-py3-none-any.whl.metadata (34 kB)\n",
      "Downloading tabulate-0.9.0-py3-none-any.whl (35 kB)\n",
      "Installing collected packages: tabulate\n",
      "Successfully installed tabulate-0.9.0\n"
     ]
    },
    {
     "name": "stderr",
     "output_type": "stream",
     "text": [
      "\n",
      "[notice] A new release of pip is available: 24.1 -> 24.2\n",
      "[notice] To update, run: python.exe -m pip install --upgrade pip\n"
     ]
    }
   ],
   "source": [
    "!pip install tabulate"
   ]
  },
  {
   "cell_type": "code",
   "execution_count": null,
   "metadata": {},
   "outputs": [],
   "source": [
    "from tabulate import tabulate"
   ]
  },
  {
   "cell_type": "code",
   "execution_count": 58,
   "metadata": {},
   "outputs": [
    {
     "name": "stdout",
     "output_type": "stream",
     "text": [
      "+-------+------------+----------------+-------------+-----------------+----------------------+--------------------+------------+----------------------+-----------------+\n",
      "|       | radio_mean | concavity_mean | radio_worst | concavity_worst | concave_points_worst |   probability_M    | true_label | distance_to_boundary | predicted_label |\n",
      "+-------+------------+----------------+-------------+-----------------+----------------------+--------------------+------------+----------------------+-----------------+\n",
      "| count |    1.0     |      1.0       |     1.0     |       1.0       |         1.0          |        1.0         |    1.0     |         1.0          |       1.0       |\n",
      "| mean  |   13.34    |     0.1169     |    15.53    |     0.4858      |        0.1708        | 0.4761038946082665 |    0.0     | 0.02389610539173348  |       0.0       |\n",
      "|  std  |    nan     |      nan       |     nan     |       nan       |         nan          |        nan         |    nan     |         nan          |       nan       |\n",
      "|  min  |   13.34    |     0.1169     |    15.53    |     0.4858      |        0.1708        | 0.4761038946082665 |    0.0     | 0.02389610539173348  |       0.0       |\n",
      "|  25%  |   13.34    |     0.1169     |    15.53    |     0.4858      |        0.1708        | 0.4761038946082665 |    0.0     | 0.02389610539173348  |       0.0       |\n",
      "|  50%  |   13.34    |     0.1169     |    15.53    |     0.4858      |        0.1708        | 0.4761038946082665 |    0.0     | 0.02389610539173348  |       0.0       |\n",
      "|  75%  |   13.34    |     0.1169     |    15.53    |     0.4858      |        0.1708        | 0.4761038946082665 |    0.0     | 0.02389610539173348  |       0.0       |\n",
      "|  max  |   13.34    |     0.1169     |    15.53    |     0.4858      |        0.1708        | 0.4761038946082665 |    0.0     | 0.02389610539173348  |       0.0       |\n",
      "+-------+------------+----------------+-------------+-----------------+----------------------+--------------------+------------+----------------------+-----------------+\n"
     ]
    }
   ],
   "source": [
    "# Imprime la tabla en formato legible\n",
    "print(tabulate(benign_near_boundary.describe(), headers='keys', tablefmt='pretty', showindex=True))"
   ]
  },
  {
   "cell_type": "code",
   "execution_count": 59,
   "metadata": {},
   "outputs": [
    {
     "name": "stdout",
     "output_type": "stream",
     "text": [
      "+-------+--------------------+---------------------+--------------------+---------------------+----------------------+---------------------+------------+----------------------+--------------------+\n",
      "|       |     radio_mean     |   concavity_mean    |    radio_worst     |   concavity_worst   | concave_points_worst |    probability_M    | true_label | distance_to_boundary |  predicted_label   |\n",
      "+-------+--------------------+---------------------+--------------------+---------------------+----------------------+---------------------+------------+----------------------+--------------------+\n",
      "| count |        3.0         |         3.0         |        3.0         |         3.0         |         3.0          |         3.0         |    3.0     |         3.0          |        3.0         |\n",
      "| mean  | 14.566666666666668 |       0.12803       |       16.55        | 0.38609999999999994 | 0.15596666666666667  | 0.5312991857982502  |    1.0     | 0.05708211103616617  | 0.6666666666666666 |\n",
      "|  std  | 1.4859789141617503 | 0.04511712202700877 | 1.1086929241228163 | 0.10146314601864068 | 0.06264857008211228  | 0.06082143037161296 |    0.0     | 0.01676764263041276  | 0.5773502691896258 |\n",
      "|  min  |       13.48        |       0.09789       |       15.53        |       0.3209        |        0.1047        |  0.461325612143126  |    1.0     | 0.03867438785687399  |        0.0         |\n",
      "|  25%  |       13.72        |      0.102095       |       15.96        |       0.32765       | 0.12104999999999999  | 0.5112067235657791  |    1.0     | 0.049881111422653085 |        0.5         |\n",
      "|  50%  |       13.96        |       0.1063        |       16.39        |       0.3344        |        0.1374        | 0.5610878349884322  |    1.0     | 0.06108783498843218  |        1.0         |\n",
      "|  75%  | 15.110000000000001 |       0.1431        | 17.060000000000002 | 0.41869999999999996 | 0.18159999999999998  | 0.5662859726258123  |    1.0     | 0.06628597262581226  |        1.0         |\n",
      "|  max  |       16.26        |       0.1799        |       17.73        |        0.503        |        0.2258        | 0.5714841102631923  |    1.0     | 0.07148411026319235  |        1.0         |\n",
      "+-------+--------------------+---------------------+--------------------+---------------------+----------------------+---------------------+------------+----------------------+--------------------+\n"
     ]
    }
   ],
   "source": [
    "# Imprime la tabla en formato legible\n",
    "print(tabulate(malignant_near_boundary.describe(), headers='keys', tablefmt='pretty', showindex=True))"
   ]
  },
  {
   "cell_type": "markdown",
   "metadata": {},
   "source": [
    "Variación porcentual de estadísticos al pasar de un diagnóstico benigno a maligno:\n",
    "\n",
    "|estadístico|radio_mean|concavity_mean|radio_worst|concavity_worst|concave_points_worst|\n",
    "|-----------|----------|--------------|-----------|---------------|--------------------|\n",
    "|mean       |  +9.2    |    +9.5      |   +6.7    |     -20.5     |      -8.7          |\n",
    "|min        |  +1.1    |    -16.3     |    0.0    |     -34.9     |      -38.7         |\n",
    "|50%        |  +4.7    |    -9.1      |   +5.5    |     -31.2     |      -20.0         |\n",
    "|max        |  +22.0   |    +54.9     |   +14.2   |     +3.5      |      +32.2         |"
   ]
  },
  {
   "cell_type": "markdown",
   "metadata": {},
   "source": [
    "Observaciones: \n",
    "\n",
    "A partir de estos resultados, parece que los extremos presentan las mayores variaciones. En el caso de extrmos máximos, las características muestran los mayores aumentos porcentuales en todas las características.\n",
    "\n",
    "Por otro lado, los extremos mínimos de 'concavity_mean', 'concavity_worst' y 'concave_points_worst' muestran una disminución porcentual significativa.\n",
    "\n",
    "Por último, en los casos de 'concavity_worst' y 'concave_points_worst' la disminución en la mediana también parece ser un estadístico que ayude a disernir el diagnóstico en los casos de frontera."
   ]
  },
  {
   "cell_type": "markdown",
   "metadata": {},
   "source": [
    "Pregunta: Cómo varía la precisión del modelo con diferentes tamaños de muestra?. Es decir, analizar la curva de aprendizaje para ver cómo el tamaño del conjunto de entrenamiento afecta la precisión del modelo."
   ]
  },
  {
   "cell_type": "code",
   "execution_count": 61,
   "metadata": {},
   "outputs": [],
   "source": [
    "# Importa las clases necesarias\n",
    "from sklearn.metrics import accuracy_score\n",
    "from sklearn.model_selection import train_test_split, learning_curve"
   ]
  },
  {
   "cell_type": "code",
   "execution_count": 62,
   "metadata": {},
   "outputs": [],
   "source": [
    "# Convierte el objetivo a valores numericos\n",
    "y = df['diagnosis'].map({'M': 1, 'B': 0})"
   ]
  },
  {
   "cell_type": "code",
   "execution_count": 63,
   "metadata": {},
   "outputs": [],
   "source": [
    "# Genera la curva de aprendizaje\n",
    "train_sizes, train_scores, test_scores = learning_curve(\n",
    "    LogisticRegression(max_iter=1000), X_train, y_train, cv=5, \n",
    "    train_sizes=np.linspace(0.1, 1.0, 10), scoring='accuracy'\n",
    ")"
   ]
  },
  {
   "cell_type": "code",
   "execution_count": 67,
   "metadata": {},
   "outputs": [],
   "source": [
    "# Calcula las medias y desviaciones estandar para las precisiones\n",
    "train_mean = np.mean(train_scores, axis=1)\n",
    "train_std = np.std(train_scores, axis=1)\n",
    "test_mean = np.mean(test_scores, axis=1)\n",
    "test_std = np.std(test_scores, axis=1)"
   ]
  },
  {
   "cell_type": "code",
   "execution_count": 73,
   "metadata": {},
   "outputs": [
    {
     "data": {
      "image/png": "[encoded data removed]",
      "text/plain": [
       "<Figure size 1000x600 with 1 Axes>"
      ]
     },
     "metadata": {},
     "output_type": "display_data"
    }
   ],
   "source": [
    "plt.figure(figsize=(10, 6))\n",
    "plt.plot(train_sizes, train_mean, 'o-', color=\"r\", label=\"Training score\")\n",
    "plt.plot(train_sizes, test_mean, 'o-', color=\"g\", label=\"Testing score\")\n",
    "\n",
    "plt.fill_between(train_sizes, train_mean - train_std, train_mean + train_std, color=\"#FF9999\", alpha=0.1)\n",
    "plt.fill_between(train_sizes, test_mean - test_std, test_mean + test_std, color=\"#99FF99\", alpha=0.1)\n",
    "\n",
    "plt.title(\"Learning Curve for Logistic Regression\")\n",
    "plt.xlabel(\"Training Set Size\")\n",
    "plt.ylabel(\"Accuracy Score\")\n",
    "plt.legend(loc=\"best\")\n",
    "plt.grid()\n",
    "plt.show()"
   ]
  },
  {
   "cell_type": "markdown",
   "metadata": {},
   "source": [
    "Observaciones: Este gráfico muestra como la precisión del modelo varía según el tamaño del conjunto de entrenamiento. Aquí algunos puntos clave que podrías observar:\n",
    "\n",
    "En tamaños pequeños de entrenamiento, como la precisión media de entrenamiento es alta pero la de evaluación es baja, el modelo podría estar sobreajustando para esos casos.\n",
    "Se observó cierta convergencia, es decir las curvas medias de entrenamiento y evaluación se acercan a medida que aumenta el tamaño del conjunto de entrenamiento, el modelo generalización.\n",
    "\n",
    "Por otro lado, hay una disminución progresiva del desvío estándar de la precisión del conjunto de prueba, esto se debe a que cada una de las evaluaciones en los folds de la validación cruzada ve performance diferentes que al aumentar el tamaño de la muestra an convergiendo. Esto apoya la idea de que el modelo adopta la capacidad de generalizar independientemente del conjunto de datos."
   ]
  },
  {
   "cell_type": "markdown",
   "metadata": {},
   "source": [
    "Bibliografía:\n",
    "\n",
    "Isabelle Guyon, Andre Elisseeff (2003). An introduction to variable and feature selection. Journal of Machine Learning Research 3 (2003) 1157-1182\n",
    "\n",
    "\n",
    "Wolberg,William, Mangasarian,Olvi, Street,Nick, and Street,W.. (1995). Breast Cancer Wisconsin (Diagnostic). UCI Machine Learning Repository. https://doi.org/10.24432/C5DW2B.\n",
    "\n",
    "\n",
    "W. Street, W. Wolberg, O. Mangasarian. (1992)\n",
    "Nuclear feature extraction for breast tumor diagnosis.\n",
    "Published in Electronic imaging."
   ]
  }
 ],
 "metadata": {
  "kernelspec": {
   "display_name": "Python 3",
   "language": "python",
   "name": "python3"
  },
  "language_info": {
   "codemirror_mode": {
    "name": "ipython",
    "version": 3
   },
   "file_extension": ".py",
   "mimetype": "text/x-python",
   "name": "python",
   "nbconvert_exporter": "python",
   "pygments_lexer": "ipython3",
   "version": "3.11.5"
  }
 },
 "nbformat": 4,
 "nbformat_minor": 2
}
